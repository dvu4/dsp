{
 "cells": [
  {
   "cell_type": "code",
   "execution_count": 1,
   "metadata": {},
   "outputs": [
    {
     "name": "stdout",
     "output_type": "stream",
     "text": [
      "Python Version: 3.6.7 |Anaconda, Inc.| (default, Oct 23 2018, 14:01:38) \n",
      "[GCC 4.2.1 Compatible Clang 4.0.1 (tags/RELEASE_401/final)] \n",
      "\n"
     ]
    }
   ],
   "source": [
    "import sys\n",
    "print(\"Python Version:\", sys.version, '\\n')"
   ]
  },
  {
   "cell_type": "markdown",
   "metadata": {
    "slideshow": {
     "slide_type": "slide"
    }
   },
   "source": [
    "# Advanced Data Types: The Collections Module"
   ]
  },
  {
   "cell_type": "markdown",
   "metadata": {},
   "source": [
    "Throughout Python's existence, several tasks have popped up over time that are regularly a pain for people. To address those, the collections model has several \"new\" data types that smooth over constant issues in python. Let's look at some of those types."
   ]
  },
  {
   "cell_type": "markdown",
   "metadata": {
    "slideshow": {
     "slide_type": "slide"
    }
   },
   "source": [
    "## DefaultDict\n",
    "\n",
    "Dictionaries expect that you will create a key-value pair before using the value. That's pretty reasonable most of the time, but sometimes you just want it to assume some basic value whenever a new key is entered. See this example."
   ]
  },
  {
   "cell_type": "code",
   "execution_count": 2,
   "metadata": {
    "slideshow": {
     "slide_type": "slide"
    }
   },
   "outputs": [
    {
     "name": "stdout",
     "output_type": "stream",
     "text": [
      "duck\n",
      "duck\n",
      "duck\n"
     ]
    },
    {
     "ename": "KeyError",
     "evalue": "'goose'",
     "output_type": "error",
     "traceback": [
      "\u001b[0;31m---------------------------------------------------------------------------\u001b[0m",
      "\u001b[0;31mKeyError\u001b[0m                                  Traceback (most recent call last)",
      "\u001b[0;32m<ipython-input-2-727d08be1f1f>\u001b[0m in \u001b[0;36m<module>\u001b[0;34m()\u001b[0m\n\u001b[1;32m      5\u001b[0m \u001b[0;34m\u001b[0m\u001b[0m\n\u001b[1;32m      6\u001b[0m \u001b[0;32mfor\u001b[0m \u001b[0manimal\u001b[0m \u001b[0;32min\u001b[0m \u001b[0manimals\u001b[0m\u001b[0;34m:\u001b[0m\u001b[0;34m\u001b[0m\u001b[0;34m\u001b[0m\u001b[0m\n\u001b[0;32m----> 7\u001b[0;31m     \u001b[0mcount\u001b[0m\u001b[0;34m[\u001b[0m\u001b[0manimal\u001b[0m\u001b[0;34m]\u001b[0m \u001b[0;34m+=\u001b[0m \u001b[0;36m1\u001b[0m\u001b[0;34m\u001b[0m\u001b[0;34m\u001b[0m\u001b[0m\n\u001b[0m\u001b[1;32m      8\u001b[0m     \u001b[0mprint\u001b[0m\u001b[0;34m(\u001b[0m\u001b[0manimal\u001b[0m\u001b[0;34m)\u001b[0m\u001b[0;34m\u001b[0m\u001b[0;34m\u001b[0m\u001b[0m\n\u001b[1;32m      9\u001b[0m \u001b[0;34m\u001b[0m\u001b[0m\n",
      "\u001b[0;31mKeyError\u001b[0m: 'goose'"
     ]
    }
   ],
   "source": [
    "count = {}\n",
    "count['duck'] = 0\n",
    "\n",
    "animals = ['duck','duck','duck','goose']\n",
    "\n",
    "for animal in animals:\n",
    "    count[animal] += 1\n",
    "    print(animal)\n",
    "\n",
    "count"
   ]
  },
  {
   "cell_type": "markdown",
   "metadata": {},
   "source": [
    "It didn't have a value for `goose` so it couldn't add 1 to it. We can get around that with some try-except work - but that's sort of annoying. The `defaultdict` allows us to specify ahead of time to just assume a basic type of value for any new key. For instance, if we tell it to expect an `int` it will assume 0."
   ]
  },
  {
   "cell_type": "code",
   "execution_count": 3,
   "metadata": {
    "slideshow": {
     "slide_type": "slide"
    }
   },
   "outputs": [
    {
     "data": {
      "text/plain": [
       "{'duck': 3, 'goose': 1}"
      ]
     },
     "execution_count": 3,
     "metadata": {},
     "output_type": "execute_result"
    }
   ],
   "source": [
    "count = {}\n",
    "\n",
    "animals = ['duck','duck','duck','goose']\n",
    "\n",
    "for animal in animals:\n",
    "    try:\n",
    "        count[animal] += 1\n",
    "    except KeyError:\n",
    "        count[animal] = 1\n",
    "\n",
    "count"
   ]
  },
  {
   "cell_type": "code",
   "execution_count": 4,
   "metadata": {},
   "outputs": [
    {
     "data": {
      "text/plain": [
       "{'duck': 3, 'goose': 1}"
      ]
     },
     "execution_count": 4,
     "metadata": {},
     "output_type": "execute_result"
    }
   ],
   "source": [
    "count = {} \n",
    "\n",
    "animals = ['duck','duck','duck','goose']\n",
    "\n",
    "for animal in animals:\n",
    "    if animal in count:\n",
    "        count[animal] += 1\n",
    "    else:\n",
    "        count[animal] = 1\n",
    "\n",
    "count"
   ]
  },
  {
   "cell_type": "code",
   "execution_count": 5,
   "metadata": {
    "slideshow": {
     "slide_type": "slide"
    }
   },
   "outputs": [
    {
     "data": {
      "text/plain": [
       "defaultdict(int, {'duck': 3, 'goose': 1})"
      ]
     },
     "execution_count": 5,
     "metadata": {},
     "output_type": "execute_result"
    }
   ],
   "source": [
    "from collections import defaultdict\n",
    "\n",
    "count = defaultdict(int)\n",
    "animals = ['duck','duck','duck','goose']\n",
    "\n",
    "for animal in animals:\n",
    "    count[animal] += 1\n",
    "    \n",
    "count"
   ]
  },
  {
   "cell_type": "markdown",
   "metadata": {
    "slideshow": {
     "slide_type": "slide"
    }
   },
   "source": [
    "## Named Tuple\n",
    "\n",
    "Sometimes you want to create a class, but the class only needs to store data, and you are lazy."
   ]
  },
  {
   "cell_type": "markdown",
   "metadata": {
    "slideshow": {
     "slide_type": "slide"
    }
   },
   "source": [
    "You could put the data in a dictionary, but there is a set amount of info that never changes for each instance. You could put the data in a tuple, but then you need to remember the order. What if you could have the simplicity of a tuple, but labels like a dictionary, and access methods by name like a dictionary? That's a **named tuple**."
   ]
  },
  {
   "cell_type": "code",
   "execution_count": 6,
   "metadata": {
    "slideshow": {
     "slide_type": "slide"
    }
   },
   "outputs": [
    {
     "data": {
      "text/plain": [
       "29"
      ]
     },
     "execution_count": 6,
     "metadata": {},
     "output_type": "execute_result"
    }
   ],
   "source": [
    "from collections import namedtuple\n",
    "\n",
    "Alumni = namedtuple('Alumni','name age gender degree title salary employer')\n",
    "\n",
    "alice = Alumni(name='Alice',\n",
    "               age=29,\n",
    "               gender='F',\n",
    "               degree ='PhD',\n",
    "               title = 'Data Scientist',\n",
    "               salary = 115000,\n",
    "               employer = 'Thumbtack')\n",
    "\n",
    "alice.age"
   ]
  },
  {
   "cell_type": "code",
   "execution_count": 9,
   "metadata": {},
   "outputs": [
    {
     "name": "stdout",
     "output_type": "stream",
     "text": [
      "Alice 29 F PhD Data Scientist 115000 Thumbtack\n"
     ]
    }
   ],
   "source": [
    "print(alice.name, alice.age, alice.gender , alice.degree, alice.title, alice.salary, alice.employer)"
   ]
  },
  {
   "cell_type": "markdown",
   "metadata": {},
   "source": [
    "## Deque"
   ]
  },
  {
   "cell_type": "markdown",
   "metadata": {},
   "source": [
    "A deque (double-ended queue) is a lovely type of object that's designed for accessing data on either end. A normal list is only optimized for adding-removing from the right with things like append and pop. Deque's are designed to be ambivalent about sides. "
   ]
  },
  {
   "cell_type": "code",
   "execution_count": 18,
   "metadata": {},
   "outputs": [
    {
     "data": {
      "text/plain": [
       "deque([3, 1, 2, 3, 4])"
      ]
     },
     "execution_count": 18,
     "metadata": {},
     "output_type": "execute_result"
    }
   ],
   "source": [
    "from collections import deque\n",
    "\n",
    "d = deque([1,2,3,4])\n",
    "d.appendleft(3)\n",
    "d"
   ]
  },
  {
   "cell_type": "code",
   "execution_count": 19,
   "metadata": {},
   "outputs": [
    {
     "name": "stdout",
     "output_type": "stream",
     "text": [
      "3\n"
     ]
    },
    {
     "data": {
      "text/plain": [
       "deque([1, 2, 3, 4])"
      ]
     },
     "execution_count": 19,
     "metadata": {},
     "output_type": "execute_result"
    }
   ],
   "source": [
    "# remove the left element from the list\n",
    "print(d.popleft())\n",
    "d"
   ]
  },
  {
   "cell_type": "code",
   "execution_count": null,
   "metadata": {},
   "outputs": [],
   "source": []
  },
  {
   "cell_type": "code",
   "execution_count": 20,
   "metadata": {},
   "outputs": [
    {
     "data": {
      "text/plain": [
       "deque([1, 2, 3, 4, 9])"
      ]
     },
     "execution_count": 20,
     "metadata": {},
     "output_type": "execute_result"
    }
   ],
   "source": [
    "d.append(9)\n",
    "d"
   ]
  },
  {
   "cell_type": "code",
   "execution_count": 21,
   "metadata": {},
   "outputs": [
    {
     "name": "stdout",
     "output_type": "stream",
     "text": [
      "9\n"
     ]
    },
    {
     "data": {
      "text/plain": [
       "deque([1, 2, 3, 4])"
      ]
     },
     "execution_count": 21,
     "metadata": {},
     "output_type": "execute_result"
    }
   ],
   "source": [
    "# remove the right element from the list\n",
    "print(d.pop())\n",
    "d"
   ]
  },
  {
   "cell_type": "markdown",
   "metadata": {},
   "source": [
    "We can also use deque's as a sliding window so we don't have to play weird games about chopping bits and pieces off if we want a fixed length."
   ]
  },
  {
   "cell_type": "code",
   "execution_count": 22,
   "metadata": {},
   "outputs": [
    {
     "name": "stdout",
     "output_type": "stream",
     "text": [
      "deque([0], maxlen=4)\n",
      "deque([0, 1], maxlen=4)\n",
      "deque([0, 1, 2], maxlen=4)\n",
      "deque([0, 1, 2, 3], maxlen=4)\n",
      "deque([1, 2, 3, 4], maxlen=4)\n",
      "deque([2, 3, 4, 5], maxlen=4)\n",
      "deque([3, 4, 5, 6], maxlen=4)\n",
      "deque([4, 5, 6, 7], maxlen=4)\n",
      "deque([5, 6, 7, 8], maxlen=4)\n",
      "deque([6, 7, 8, 9], maxlen=4)\n",
      "---SWITCH---\n",
      "deque([0, 6, 7, 8], maxlen=4)\n",
      "deque([1, 0, 6, 7], maxlen=4)\n",
      "deque([2, 1, 0, 6], maxlen=4)\n",
      "deque([3, 2, 1, 0], maxlen=4)\n",
      "deque([4, 3, 2, 1], maxlen=4)\n",
      "deque([5, 4, 3, 2], maxlen=4)\n",
      "deque([6, 5, 4, 3], maxlen=4)\n",
      "deque([7, 6, 5, 4], maxlen=4)\n",
      "deque([8, 7, 6, 5], maxlen=4)\n",
      "deque([9, 8, 7, 6], maxlen=4)\n"
     ]
    }
   ],
   "source": [
    "window = deque(maxlen=4)\n",
    "for idx in range(10):\n",
    "    window.append(idx)\n",
    "    print(window)\n",
    "    \n",
    "print(\"---SWITCH---\")\n",
    "for idx in range(10):\n",
    "    window.appendleft(idx)\n",
    "    print(window)"
   ]
  },
  {
   "cell_type": "code",
   "execution_count": 23,
   "metadata": {},
   "outputs": [
    {
     "name": "stdout",
     "output_type": "stream",
     "text": [
      "deque([0], maxlen=8)\n",
      "deque([0, 1], maxlen=8)\n",
      "deque([0, 1, 2], maxlen=8)\n",
      "deque([0, 1, 2, 3], maxlen=8)\n",
      "deque([0, 1, 2, 3, 4], maxlen=8)\n",
      "deque([0, 1, 2, 3, 4, 5], maxlen=8)\n",
      "deque([0, 1, 2, 3, 4, 5, 6], maxlen=8)\n",
      "deque([0, 1, 2, 3, 4, 5, 6, 7], maxlen=8)\n",
      "deque([1, 2, 3, 4, 5, 6, 7, 8], maxlen=8)\n",
      "deque([2, 3, 4, 5, 6, 7, 8, 9], maxlen=8)\n",
      "deque([0, 2, 3, 4, 5, 6, 7, 8], maxlen=8)\n",
      "deque([1, 0, 2, 3, 4, 5, 6, 7], maxlen=8)\n",
      "deque([2, 1, 0, 2, 3, 4, 5, 6], maxlen=8)\n",
      "deque([3, 2, 1, 0, 2, 3, 4, 5], maxlen=8)\n",
      "deque([4, 3, 2, 1, 0, 2, 3, 4], maxlen=8)\n",
      "deque([5, 4, 3, 2, 1, 0, 2, 3], maxlen=8)\n",
      "deque([6, 5, 4, 3, 2, 1, 0, 2], maxlen=8)\n",
      "deque([7, 6, 5, 4, 3, 2, 1, 0], maxlen=8)\n",
      "deque([8, 7, 6, 5, 4, 3, 2, 1], maxlen=8)\n",
      "deque([9, 8, 7, 6, 5, 4, 3, 2], maxlen=8)\n"
     ]
    }
   ],
   "source": [
    "new_window = deque(maxlen=8)\n",
    "for i in range(10):\n",
    "    new_window.append(i)\n",
    "    print(new_window)\n",
    "    \n",
    "for i in range(10):\n",
    "    new_window.appendleft(i)\n",
    "    print(new_window)"
   ]
  },
  {
   "cell_type": "markdown",
   "metadata": {},
   "source": [
    "# Generators"
   ]
  },
  {
   "cell_type": "markdown",
   "metadata": {},
   "source": [
    "Generators aren't in the `collections` package, but are instead a standard part of Python 3. They're extremely powerful and solve a lot of problems for us.\n",
    "\n",
    "Often times in an analysis, we don't really want to load a whole thing into memory. We really just want a `cursor` that knows where it is in the data. For instance, imagine I was trying to load all the books ever written into Python... that's too big for my RAM. However, if I just had an object that kept track of which book it was on, and what page it needs to read next, I could load things page-by-page. That's exactly what a generator does (albeit, I've oversimplified a bit). \n",
    "\n",
    "We can use that to give us data over and over, without having to pre-generate all the data. Let's see an example."
   ]
  },
  {
   "cell_type": "code",
   "execution_count": 24,
   "metadata": {},
   "outputs": [
    {
     "name": "stdout",
     "output_type": "stream",
     "text": [
      "1\n",
      "2\n",
      "3\n",
      "4\n",
      "5\n",
      "6\n",
      "7\n",
      "8\n",
      "9\n",
      "10\n"
     ]
    }
   ],
   "source": [
    "def generate_numbers():\n",
    "    \"\"\"\n",
    "    An infinite number generator\n",
    "    \"\"\"\n",
    "    x = 0\n",
    "    while True:\n",
    "        x += 1\n",
    "        yield x # instead of return, I use yield, which makes this into a generator!\n",
    "        \n",
    "        \n",
    "my_generator = generate_numbers()\n",
    "for iteration in range(10):\n",
    "    next_number = next(my_generator)\n",
    "    print(next_number)"
   ]
  },
  {
   "cell_type": "markdown",
   "metadata": {},
   "source": [
    "This could go on until infinity! Now realistically, if I asked python to generate an infinite `list` of numbers, I'd run out of RAM. But here, I've just asked Python to keep track of what number comes next, and to forget everything else. Then when it updates, it just says, \"oh this number comes next now\". Let's prove to ourselves that Python isn't pre-generating the whole `list` by comparing the size in memory of the generator and the list."
   ]
  },
  {
   "cell_type": "code",
   "execution_count": 25,
   "metadata": {},
   "outputs": [],
   "source": [
    "from sys import getsizeof as sizeof"
   ]
  },
  {
   "cell_type": "code",
   "execution_count": 26,
   "metadata": {},
   "outputs": [
    {
     "name": "stdout",
     "output_type": "stream",
     "text": [
      "1672\n",
      "88\n"
     ]
    }
   ],
   "source": [
    "a = [idx for idx in range(200)]\n",
    "b = (idx for idx in range(200)) # By wrapping in parens, this is a generator\n",
    "print(sizeof(a))\n",
    "print(sizeof(b))"
   ]
  },
  {
   "cell_type": "markdown",
   "metadata": {},
   "source": [
    "The list is 1672 bytes, the generator is only 88 bytes! That's because it's not storing all the data, just a cursor to loop through the data."
   ]
  },
  {
   "cell_type": "code",
   "execution_count": 28,
   "metadata": {},
   "outputs": [
    {
     "data": {
      "text/plain": [
       "<generator object <genexpr> at 0x106df36d0>"
      ]
     },
     "execution_count": 28,
     "metadata": {},
     "output_type": "execute_result"
    }
   ],
   "source": [
    "a\n",
    "b"
   ]
  },
  {
   "cell_type": "code",
   "execution_count": 29,
   "metadata": {},
   "outputs": [
    {
     "data": {
      "text/plain": [
       "generator"
      ]
     },
     "execution_count": 29,
     "metadata": {},
     "output_type": "execute_result"
    }
   ],
   "source": [
    "type(b)"
   ]
  },
  {
   "cell_type": "markdown",
   "metadata": {},
   "source": [
    "Generators are iterables, so we can loop through them with a `for` just like normal."
   ]
  },
  {
   "cell_type": "code",
   "execution_count": 30,
   "metadata": {},
   "outputs": [
    {
     "name": "stdout",
     "output_type": "stream",
     "text": [
      "0\n",
      "1\n",
      "2\n",
      "3\n",
      "4\n",
      "5\n",
      "6\n",
      "7\n",
      "8\n",
      "9\n",
      "10\n",
      "11\n",
      "12\n",
      "13\n",
      "14\n",
      "15\n",
      "16\n",
      "17\n",
      "18\n",
      "19\n",
      "20\n",
      "21\n",
      "22\n",
      "23\n",
      "24\n",
      "25\n",
      "26\n",
      "27\n",
      "28\n",
      "29\n",
      "30\n",
      "31\n",
      "32\n",
      "33\n",
      "34\n",
      "35\n",
      "36\n",
      "37\n",
      "38\n",
      "39\n",
      "40\n",
      "41\n",
      "42\n",
      "43\n",
      "44\n",
      "45\n",
      "46\n",
      "47\n",
      "48\n",
      "49\n",
      "50\n",
      "51\n",
      "52\n",
      "53\n",
      "54\n",
      "55\n",
      "56\n",
      "57\n",
      "58\n",
      "59\n",
      "60\n",
      "61\n",
      "62\n",
      "63\n",
      "64\n",
      "65\n",
      "66\n",
      "67\n",
      "68\n",
      "69\n",
      "70\n",
      "71\n",
      "72\n",
      "73\n",
      "74\n",
      "75\n",
      "76\n",
      "77\n",
      "78\n",
      "79\n",
      "80\n",
      "81\n",
      "82\n",
      "83\n",
      "84\n",
      "85\n",
      "86\n",
      "87\n",
      "88\n",
      "89\n",
      "90\n",
      "91\n",
      "92\n",
      "93\n",
      "94\n",
      "95\n",
      "96\n",
      "97\n",
      "98\n",
      "99\n",
      "100\n",
      "101\n",
      "102\n",
      "103\n",
      "104\n",
      "105\n",
      "106\n",
      "107\n",
      "108\n",
      "109\n",
      "110\n",
      "111\n",
      "112\n",
      "113\n",
      "114\n",
      "115\n",
      "116\n",
      "117\n",
      "118\n",
      "119\n",
      "120\n",
      "121\n",
      "122\n",
      "123\n",
      "124\n",
      "125\n",
      "126\n",
      "127\n",
      "128\n",
      "129\n",
      "130\n",
      "131\n",
      "132\n",
      "133\n",
      "134\n",
      "135\n",
      "136\n",
      "137\n",
      "138\n",
      "139\n",
      "140\n",
      "141\n",
      "142\n",
      "143\n",
      "144\n",
      "145\n",
      "146\n",
      "147\n",
      "148\n",
      "149\n",
      "150\n",
      "151\n",
      "152\n",
      "153\n",
      "154\n",
      "155\n",
      "156\n",
      "157\n",
      "158\n",
      "159\n",
      "160\n",
      "161\n",
      "162\n",
      "163\n",
      "164\n",
      "165\n",
      "166\n",
      "167\n",
      "168\n",
      "169\n",
      "170\n",
      "171\n",
      "172\n",
      "173\n",
      "174\n",
      "175\n",
      "176\n",
      "177\n",
      "178\n",
      "179\n",
      "180\n",
      "181\n",
      "182\n",
      "183\n",
      "184\n",
      "185\n",
      "186\n",
      "187\n",
      "188\n",
      "189\n",
      "190\n",
      "191\n",
      "192\n",
      "193\n",
      "194\n",
      "195\n",
      "196\n",
      "197\n",
      "198\n",
      "199\n"
     ]
    }
   ],
   "source": [
    "for ix in b:\n",
    "    print(ix)"
   ]
  },
  {
   "cell_type": "markdown",
   "metadata": {},
   "source": [
    "Why does this matter? Because if we want to work with large, streaming data, we can't always fit it into memory. The generator doesn't ask it to fit in memory, it just remembers where it is pulling the data from... for instance, what line in the CSV am I on? Then it hands to the next data as you ask for it. You can keep adding data to a file, or always pull the most recent data and use that with generators."
   ]
  },
  {
   "cell_type": "code",
   "execution_count": null,
   "metadata": {},
   "outputs": [],
   "source": []
  },
  {
   "cell_type": "code",
   "execution_count": 97,
   "metadata": {
    "code_folding": [
     62,
     70
    ]
   },
   "outputs": [
    {
     "name": "stdout",
     "output_type": "stream",
     "text": [
      "1\n",
      "1\n",
      "6\n",
      "1\n",
      "31\n",
      "1\n",
      "2\n",
      "2\n",
      "1\n"
     ]
    }
   ],
   "source": [
    "#!/bin/python3\n",
    "\n",
    "import sys\n",
    "import os\n",
    "import tempfile\n",
    "from pathlib import Path\n",
    "import csv\n",
    "import re\n",
    "from collections import defaultdict\n",
    "\n",
    "facultycsv = \"\"\"name, degree, title, email\n",
    "Scarlett L. Bellamy, Sc.D.,Associate Professor of Biostatistics,bellamys@mail.med.upenn.edu\n",
    "Warren B. Bilker,Ph.D.,Professor of Biostatistics,warren@upenn.edu\n",
    "Matthew W Bryan, PhD,Assistant Professor of Biostatistics,bryanma@upenn.edu\n",
    "Jinbo Chen, Ph.D.,Associate Professor of Biostatistics,jinboche@upenn.edu\n",
    "Susan S Ellenberg, Ph.D.,Professor of Biostatistics,sellenbe@upenn.edu\n",
    "Jonas H. Ellenberg, Ph.D.,Professor of Biostatistics,jellenbe@mail.med.upenn.edu\n",
    "Rui Feng, Ph.D,Assistant Professor of Biostatistics,ruifeng@upenn.edu\n",
    "Benjamin C. French, PhD,Associate Professor of Biostatistics,bcfrench@mail.med.upenn.edu\n",
    "Phyllis A. Gimotty, Ph.D,Professor of Biostatistics,pgimotty@upenn.edu\n",
    "Wensheng Guo, Ph.D,Professor of Biostatistics,wguo@mail.med.upenn.edu\n",
    "Yenchih Hsu, Ph.D.,Assistant Professor of Biostatistics,hsu9@mail.med.upenn.edu\n",
    "Rebecca A Hubbard, PhD,Associate Professor of Biostatistics,rhubb@mail.med.upenn.edu\n",
    "Wei-Ting Hwang, Ph.D.,Associate Professor of Biostatistics,whwang@mail.med.upenn.edu\n",
    "Marshall M. Joffe, MD MPH Ph.D,Professor of Biostatistics,mjoffe@mail.med.upenn.edu\n",
    "J. Richard Landis, B.S.Ed. M.S. Ph.D.,Professor of Biostatistics,jrlandis@mail.med.upenn.edu\n",
    "Yimei Li, Ph.D.,Assistant Professor of Biostatistics,liy3@email.chop.edu\n",
    "Mingyao Li, Ph.D.,Associate Professor of Biostatistics,mingyao@mail.med.upenn.edu\n",
    "Hongzhe Li, Ph.D,Professor of Biostatistics,hongzhe@upenn.edu\n",
    "A. Russell Localio, JD MA MPH MS PhD,Associate Professor of Biostatistics,rlocalio@upenn.edu\n",
    "Nandita Mitra, Ph.D.,Associate Professor of Biostatistics,nanditam@mail.med.upenn.edu\n",
    "Knashawn H. Morales, Sc.D.,Associate Professor of Biostatistics,knashawn@mail.med.upenn.edu\n",
    "Kathleen Joy Propert, Sc.D.,Professor of Biostatistics,propert@mail.med.upenn.edu\n",
    "Mary E. Putt, PhD ScD,Professor of Biostatistics,mputt@mail.med.upenn.edu\n",
    "Sarah Jane Ratcliffe, Ph.D.,Associate Professor of Biostatistics,sratclif@upenn.edu\n",
    "Michelle Elana Ross, PhD,Assistant Professor is Biostatistics,michross@upenn.edu\n",
    "Jason A. Roy, Ph.D.,Associate Professor of Biostatistics,jaroy@mail.med.upenn.edu\n",
    "Mary D. Sammel, Sc.D.,Professor of Biostatistics,msammel@cceb.med.upenn.edu\n",
    "Pamela Ann Shaw, PhD,Assistant Professor of Biostatistics,shawp@upenn.edu\n",
    "Russell Takeshi Shinohara,0,Assistant Professor of Biostatistics,rshi@mail.med.upenn.edu\n",
    "Haochang Shou, Ph.D.,Assistant Professor of Biostatistics,hshou@mail.med.upenn.edu\n",
    "Justine Shults, Ph.D.,Professor of Biostatistics,jshults@mail.med.upenn.edu\n",
    "Alisa Jane Stephens, Ph.D.,Assistant Professor of Biostatistics,alisaste@mail.med.upenn.edu\n",
    "Andrea Beth Troxel, ScD,Professor of Biostatistics,atroxel@mail.med.upenn.edu\n",
    "Rui Xiao, PhD,Assistant Professor of Biostatistics,rxiao@mail.med.upenn.edu\n",
    "Sharon Xiangwen Xie, Ph.D.,Associate Professor of Biostatistics,sxie@mail.med.upenn.edu\n",
    "Dawei Xie, PhD,Assistant Professor of Biostatistics,dxie@upenn.edu\n",
    "Wei (Peter) Yang, Ph.D.,Assistant Professor of Biostatistics,weiyang@mail.med.upenn.edu\"\"\"\n",
    "\n",
    "\n",
    "#temp_dir = Path(os.environ['OUTPUT_PATH']).parent\n",
    "\n",
    "#faculty_path = temp_dir / \"faculty.csv\"\n",
    "\n",
    "#faculty_path.write_text(facultycsv)\n",
    "\n",
    "\n",
    "file = open(\"faculty.csv\",\"w\") \n",
    "file.writelines(facultycsv) \n",
    "file.close() #to change file access modes \n",
    "\n",
    "# Complete the function below.\n",
    "\n",
    "def count_degrees(csv_file_name):\n",
    "    \n",
    "    ## open the file\n",
    "    with open(csv_file_name, 'r') as infile:\n",
    "        ## read the file as a dictionary for each row ({header : value}) and remove whitespace \n",
    "        reader = csv.DictReader(infile, skipinitialspace=True)\n",
    "        data = {}\n",
    "        for row in reader:\n",
    "            for header, value in row.items():\n",
    "                try:\n",
    "                    data[header].append(value)\n",
    "                except KeyError:\n",
    "                    data[header] = [value]\n",
    "\n",
    "                    \n",
    "    ## remove punctuation and whitespace characters\n",
    "    degrees = [re.sub(r'[^\\w\\s]','',i).split() for i in data['degree']]\n",
    "    \n",
    "    ## flatten lists in list\n",
    "    degrees = sum(degrees , [])\n",
    "\n",
    "    count = defaultdict(int)\n",
    "\n",
    "    for degree in degrees:\n",
    "        count[degree] += 1\n",
    "    \n",
    "    return count\n",
    "\n",
    "\n",
    "degreecounts = count_degrees(faculty_path)\n",
    "\n",
    "    \n",
    "degreecounts = {\n",
    "    str(key).replace(' ', '').replace('.', '').upper(): val\n",
    "    for key, val in degreecounts.items()\n",
    "}\n",
    "\n",
    "degrees = ['MD', 'MA', 'SCD', 'BSED', 'PHD', '0', 'MPH', 'MS', 'JD']\n",
    "assert len(degrees) >= len(degreecounts), 'did you get all the different degrees?'\n",
    "assert len(degrees) == len(degreecounts), 'your output has too many degrees'\n",
    "for degree in degrees:\n",
    "    count = degreecounts.get(degree, -1)\n",
    "    print(count)"
   ]
  },
  {
   "cell_type": "code",
   "execution_count": 42,
   "metadata": {},
   "outputs": [],
   "source": []
  },
  {
   "cell_type": "code",
   "execution_count": 98,
   "metadata": {},
   "outputs": [],
   "source": [
    "facultycsv = \"\"\"name, degree, title, email\n",
    "Scarlett L. Bellamy, Sc.D.,Associate Professor of Biostatistics,bellamys@mail.med.upenn.edu\n",
    "Warren B. Bilker,Ph.D.,Professor of Biostatistics,warren@upenn.edu\n",
    "Matthew W Bryan, PhD,Assistant Professor of Biostatistics,bryanma@upenn.edu\n",
    "Jinbo Chen, Ph.D.,Associate Professor of Biostatistics,jinboche@upenn.edu\n",
    "Susan S Ellenberg, Ph.D.,Professor of Biostatistics,sellenbe@upenn.edu\n",
    "Jonas H. Ellenberg, Ph.D.,Professor of Biostatistics,jellenbe@mail.med.upenn.edu\n",
    "Rui Feng, Ph.D,Assistant Professor of Biostatistics,ruifeng@upenn.edu\n",
    "Benjamin C. French, PhD,Associate Professor of Biostatistics,bcfrench@mail.med.upenn.edu\n",
    "Phyllis A. Gimotty, Ph.D,Professor of Biostatistics,pgimotty@upenn.edu\n",
    "Wensheng Guo, Ph.D,Professor of Biostatistics,wguo@mail.med.upenn.edu\n",
    "Yenchih Hsu, Ph.D.,Assistant Professor of Biostatistics,hsu9@mail.med.upenn.edu\n",
    "Rebecca A Hubbard, PhD,Associate Professor of Biostatistics,rhubb@mail.med.upenn.edu\n",
    "Wei-Ting Hwang, Ph.D.,Associate Professor of Biostatistics,whwang@mail.med.upenn.edu\n",
    "Marshall M. Joffe, MD MPH Ph.D,Professor of Biostatistics,mjoffe@mail.med.upenn.edu\n",
    "J. Richard Landis, B.S.Ed. M.S. Ph.D.,Professor of Biostatistics,jrlandis@mail.med.upenn.edu\n",
    "Yimei Li, Ph.D.,Assistant Professor of Biostatistics,liy3@email.chop.edu\n",
    "Mingyao Li, Ph.D.,Associate Professor of Biostatistics,mingyao@mail.med.upenn.edu\n",
    "Hongzhe Li, Ph.D,Professor of Biostatistics,hongzhe@upenn.edu\n",
    "A. Russell Localio, JD MA MPH MS PhD,Associate Professor of Biostatistics,rlocalio@upenn.edu\n",
    "Nandita Mitra, Ph.D.,Associate Professor of Biostatistics,nanditam@mail.med.upenn.edu\n",
    "Knashawn H. Morales, Sc.D.,Associate Professor of Biostatistics,knashawn@mail.med.upenn.edu\n",
    "Kathleen Joy Propert, Sc.D.,Professor of Biostatistics,propert@mail.med.upenn.edu\n",
    "Mary E. Putt, PhD ScD,Professor of Biostatistics,mputt@mail.med.upenn.edu\n",
    "Sarah Jane Ratcliffe, Ph.D.,Associate Professor of Biostatistics,sratclif@upenn.edu\n",
    "Michelle Elana Ross, PhD,Assistant Professor is Biostatistics,michross@upenn.edu\n",
    "Jason A. Roy, Ph.D.,Associate Professor of Biostatistics,jaroy@mail.med.upenn.edu\n",
    "Mary D. Sammel, Sc.D.,Professor of Biostatistics,msammel@cceb.med.upenn.edu\n",
    "Pamela Ann Shaw, PhD,Assistant Professor of Biostatistics,shawp@upenn.edu\n",
    "Russell Takeshi Shinohara,0,Assistant Professor of Biostatistics,rshi@mail.med.upenn.edu\n",
    "Haochang Shou, Ph.D.,Assistant Professor of Biostatistics,hshou@mail.med.upenn.edu\n",
    "Justine Shults, Ph.D.,Professor of Biostatistics,jshults@mail.med.upenn.edu\n",
    "Alisa Jane Stephens, Ph.D.,Assistant Professor of Biostatistics,alisaste@mail.med.upenn.edu\n",
    "Andrea Beth Troxel, ScD,Professor of Biostatistics,atroxel@mail.med.upenn.edu\n",
    "Rui Xiao, PhD,Assistant Professor of Biotatistics,rxiao@mail.med.upenn.edu\n",
    "Sharon Xiangwen Xie, Ph.D.,Associate Professor of Biostatistics,sxie@mail.med.upenn.edu\n",
    "Dawei Xie, PhD,Assistant Professor of Biostatistics,dxie@upenn.edu\n",
    "Wei (Peter) Yang, Ph.D.,Assistant Professor of Biostatistics,weiyang@mail.med.upenn.edu\"\"\"\n",
    "\n",
    "file = open(\"faculty.csv\",\"w\") \n",
    "file.writelines(facultycsv) \n",
    "file.close() #to change file access modes \n",
    "  \n",
    "#faculty=[line.strip().split(',') for line in open('faculty.csv')]\n",
    "\n",
    "# open the file in universal line ending mode \n",
    "with open('faculty.csv', 'r') as infile:\n",
    "  # read the file as a dictionary for each row ({header : value}) and remove whitespace \n",
    "    reader = csv.DictReader(infile, skipinitialspace=True)\n",
    "    data = {}\n",
    "    for row in reader:\n",
    "        for header, value in row.items():\n",
    "            try:\n",
    "                data[header].append(value)\n",
    "            except KeyError:\n",
    "                data[header] = [value]"
   ]
  },
  {
   "cell_type": "code",
   "execution_count": null,
   "metadata": {},
   "outputs": [],
   "source": []
  },
  {
   "cell_type": "code",
   "execution_count": 99,
   "metadata": {},
   "outputs": [
    {
     "name": "stdout",
     "output_type": "stream",
     "text": [
      "dict_keys(['name', 'degree', 'title', 'email'])\n"
     ]
    },
    {
     "data": {
      "text/plain": [
       "['Sc.D.',\n",
       " 'Ph.D.',\n",
       " 'PhD',\n",
       " 'Ph.D.',\n",
       " 'Ph.D.',\n",
       " 'Ph.D.',\n",
       " 'Ph.D',\n",
       " 'PhD',\n",
       " 'Ph.D',\n",
       " 'Ph.D',\n",
       " 'Ph.D.',\n",
       " 'PhD',\n",
       " 'Ph.D.',\n",
       " 'MD MPH Ph.D',\n",
       " 'B.S.Ed. M.S. Ph.D.',\n",
       " 'Ph.D.',\n",
       " 'Ph.D.',\n",
       " 'Ph.D',\n",
       " 'JD MA MPH MS PhD',\n",
       " 'Ph.D.',\n",
       " 'Sc.D.',\n",
       " 'Sc.D.',\n",
       " 'PhD ScD',\n",
       " 'Ph.D.',\n",
       " 'PhD',\n",
       " 'Ph.D.',\n",
       " 'Sc.D.',\n",
       " 'PhD',\n",
       " '0',\n",
       " 'Ph.D.',\n",
       " 'Ph.D.',\n",
       " 'Ph.D.',\n",
       " 'ScD',\n",
       " 'PhD',\n",
       " 'Ph.D.',\n",
       " 'PhD',\n",
       " 'Ph.D.']"
      ]
     },
     "execution_count": 99,
     "metadata": {},
     "output_type": "execute_result"
    }
   ],
   "source": [
    "print(data.keys())\n",
    "degrees = [i.strip() for i in data['degree']]\n",
    "degrees"
   ]
  },
  {
   "cell_type": "code",
   "execution_count": null,
   "metadata": {},
   "outputs": [],
   "source": []
  },
  {
   "cell_type": "code",
   "execution_count": 100,
   "metadata": {},
   "outputs": [
    {
     "name": "stdout",
     "output_type": "stream",
     "text": [
      "string. With. Punctuation?\n"
     ]
    },
    {
     "data": {
      "text/plain": [
       "'string With Punctuation'"
      ]
     },
     "execution_count": 100,
     "metadata": {},
     "output_type": "execute_result"
    }
   ],
   "source": [
    "import re\n",
    "s = \"string. With. Punctuation?\"\n",
    "print(s)\n",
    "s = re.sub(r'[^\\w\\s]','',s)\n",
    "s"
   ]
  },
  {
   "cell_type": "code",
   "execution_count": 101,
   "metadata": {},
   "outputs": [
    {
     "name": "stdout",
     "output_type": "stream",
     "text": [
      "['Sc.D.', 'Ph.D.', 'PhD', 'Ph.D.', 'Ph.D.', 'Ph.D.', 'Ph.D', 'PhD', 'Ph.D', 'Ph.D', 'Ph.D.', 'PhD', 'Ph.D.', 'MD MPH Ph.D', 'B.S.Ed. M.S. Ph.D.', 'Ph.D.', 'Ph.D.', 'Ph.D', 'JD MA MPH MS PhD', 'Ph.D.', 'Sc.D.', 'Sc.D.', 'PhD ScD', 'Ph.D.', 'PhD', 'Ph.D.', 'Sc.D.', 'PhD', '0', 'Ph.D.', 'Ph.D.', 'Ph.D.', 'ScD', 'PhD', 'Ph.D.', 'PhD', 'Ph.D.'] \n",
      "\n",
      "['ScD', 'PhD', 'PhD', 'PhD', 'PhD', 'PhD', 'PhD', 'PhD', 'PhD', 'PhD', 'PhD', 'PhD', 'PhD', 'MD', 'MPH', 'PhD', 'BSEd', 'MS', 'PhD', 'PhD', 'PhD', 'PhD', 'JD', 'MA', 'MPH', 'MS', 'PhD', 'PhD', 'ScD', 'ScD', 'PhD', 'ScD', 'PhD', 'PhD', 'PhD', 'ScD', 'PhD', '0', 'PhD', 'PhD', 'PhD', 'ScD', 'PhD', 'PhD', 'PhD', 'PhD']\n"
     ]
    }
   ],
   "source": [
    "## remove whitespace\n",
    "#degrees = [i.strip() for i in data['degree']]\n",
    "\n",
    "## remove punctuation characters\n",
    "#degrees = [re.sub(r'[^\\w\\s]','',i) for i in degrees]\n",
    "\n",
    "## remove whitespace\n",
    "#degrees = [i.split() for i in degrees]\n",
    "\n",
    "## combine all together\n",
    "degrees = [re.sub(r'[^\\w\\s]','',i).split() for i in data['degree']]\n",
    "degrees = sum(degrees , [])\n",
    "print(data['degree'], '\\n')\n",
    "print(degrees)"
   ]
  },
  {
   "cell_type": "code",
   "execution_count": 102,
   "metadata": {},
   "outputs": [
    {
     "data": {
      "text/plain": [
       "defaultdict(int,\n",
       "            {'ScD': 6,\n",
       "             'PhD': 31,\n",
       "             'MD': 1,\n",
       "             'MPH': 2,\n",
       "             'BSEd': 1,\n",
       "             'MS': 2,\n",
       "             'JD': 1,\n",
       "             'MA': 1,\n",
       "             '0': 1})"
      ]
     },
     "execution_count": 102,
     "metadata": {},
     "output_type": "execute_result"
    }
   ],
   "source": [
    "from collections import defaultdict\n",
    "\n",
    "count = defaultdict(int)\n",
    "\n",
    "for degree in degrees:\n",
    "    count[degree] += 1\n",
    "    \n",
    "count"
   ]
  },
  {
   "cell_type": "code",
   "execution_count": null,
   "metadata": {},
   "outputs": [],
   "source": []
  },
  {
   "cell_type": "code",
   "execution_count": 112,
   "metadata": {},
   "outputs": [
    {
     "name": "stdout",
     "output_type": "stream",
     "text": [
      "13\n",
      "12\n",
      "12\n"
     ]
    }
   ],
   "source": [
    "#!/bin/python3\n",
    "\n",
    "import sys\n",
    "import os\n",
    "import tempfile\n",
    "from pathlib import Path\n",
    "\n",
    "\n",
    "facultycsv = \"\"\"name, degree, title, email\n",
    "Scarlett L. Bellamy, Sc.D.,Associate Professor of Biostatistics,bellamys@mail.med.upenn.edu\n",
    "Warren B. Bilker,Ph.D.,Professor of Biostatistics,warren@upenn.edu\n",
    "Matthew W Bryan, PhD,Assistant Professor of Biostatistics,bryanma@upenn.edu\n",
    "Jinbo Chen, Ph.D.,Associate Professor of Biostatistics,jinboche@upenn.edu\n",
    "Susan S Ellenberg, Ph.D.,Professor of Biostatistics,sellenbe@upenn.edu\n",
    "Jonas H. Ellenberg, Ph.D.,Professor of Biostatistics,jellenbe@mail.med.upenn.edu\n",
    "Rui Feng, Ph.D,Assistant Professor of Biostatistics,ruifeng@upenn.edu\n",
    "Benjamin C. French, PhD,Associate Professor of Biostatistics,bcfrench@mail.med.upenn.edu\n",
    "Phyllis A. Gimotty, Ph.D,Professor of Biostatistics,pgimotty@upenn.edu\n",
    "Wensheng Guo, Ph.D,Professor of Biostatistics,wguo@mail.med.upenn.edu\n",
    "Yenchih Hsu, Ph.D.,Assistant Professor of Biostatistics,hsu9@mail.med.upenn.edu\n",
    "Rebecca A Hubbard, PhD,Associate Professor of Biostatistics,rhubb@mail.med.upenn.edu\n",
    "Wei-Ting Hwang, Ph.D.,Associate Professor of Biostatistics,whwang@mail.med.upenn.edu\n",
    "Marshall M. Joffe, MD MPH Ph.D,Professor of Biostatistics,mjoffe@mail.med.upenn.edu\n",
    "J. Richard Landis, B.S.Ed. M.S. Ph.D.,Professor of Biostatistics,jrlandis@mail.med.upenn.edu\n",
    "Yimei Li, Ph.D.,Assistant Professor of Biostatistics,liy3@email.chop.edu\n",
    "Mingyao Li, Ph.D.,Associate Professor of Biostatistics,mingyao@mail.med.upenn.edu\n",
    "Hongzhe Li, Ph.D,Professor of Biostatistics,hongzhe@upenn.edu\n",
    "A. Russell Localio, JD MA MPH MS PhD,Associate Professor of Biostatistics,rlocalio@upenn.edu\n",
    "Nandita Mitra, Ph.D.,Associate Professor of Biostatistics,nanditam@mail.med.upenn.edu\n",
    "Knashawn H. Morales, Sc.D.,Associate Professor of Biostatistics,knashawn@mail.med.upenn.edu\n",
    "Kathleen Joy Propert, Sc.D.,Professor of Biostatistics,propert@mail.med.upenn.edu\n",
    "Mary E. Putt, PhD ScD,Professor of Biostatistics,mputt@mail.med.upenn.edu\n",
    "Sarah Jane Ratcliffe, Ph.D.,Associate Professor of Biostatistics,sratclif@upenn.edu\n",
    "Michelle Elana Ross, PhD,Assistant Professor is Biostatistics,michross@upenn.edu\n",
    "Jason A. Roy, Ph.D.,Associate Professor of Biostatistics,jaroy@mail.med.upenn.edu\n",
    "Mary D. Sammel, Sc.D.,Professor of Biostatistics,msammel@cceb.med.upenn.edu\n",
    "Pamela Ann Shaw, PhD,Assistant Professor of Biostatistics,shawp@upenn.edu\n",
    "Russell Takeshi Shinohara,0,Assistant Professor of Biostatistics,rshi@mail.med.upenn.edu\n",
    "Haochang Shou, Ph.D.,Assistant Professor of Biostatistics,hshou@mail.med.upenn.edu\n",
    "Justine Shults, Ph.D.,Professor of Biostatistics,jshults@mail.med.upenn.edu\n",
    "Alisa Jane Stephens, Ph.D.,Assistant Professor of Biostatistics,alisaste@mail.med.upenn.edu\n",
    "Andrea Beth Troxel, ScD,Professor of Biostatistics,atroxel@mail.med.upenn.edu\n",
    "Rui Xiao, PhD,Assistant Professor of Biostatistics,rxiao@mail.med.upenn.edu\n",
    "Sharon Xiangwen Xie, Ph.D.,Associate Professor of Biostatistics,sxie@mail.med.upenn.edu\n",
    "Dawei Xie, PhD,Assistant Professor of Biostatistics,dxie@upenn.edu\n",
    "Wei (Peter) Yang, Ph.D.,Assistant Professor of Biostatistics,weiyang@mail.med.upenn.edu\"\"\"\n",
    "\n",
    "#temp_dir = Path(os.environ['OUTPUT_PATH']).parent\n",
    "\n",
    "#faculty_path = temp_dir / \"faculty.csv\"\n",
    "\n",
    "#faculty_path.write_text(facultycsv)\n",
    "\n",
    "\n",
    "file = open(\"faculty.csv\",\"w\") \n",
    "file.writelines(facultycsv) \n",
    "file.close() #to change file access modes \n",
    "\n",
    "# Complete the function below.\n",
    "import csv\n",
    "from collections import defaultdict\n",
    "\n",
    "def count_titles(csv_file_name):\n",
    "\n",
    "    ## open the file\n",
    "    with open(csv_file_name, 'r') as infile:\n",
    "        ## read the file as a dictionary for each row ({header : value}) and remove whitespace \n",
    "        reader = csv.DictReader(infile, skipinitialspace=True)\n",
    "        data = {}\n",
    "        for row in reader:\n",
    "            for header, value in row.items():\n",
    "                try:\n",
    "                    data[header].append(value)\n",
    "                except KeyError:\n",
    "                    data[header] = [value]\n",
    "\n",
    "                    \n",
    "    ## correct some errors in title\n",
    "    titles = [i.replace(' is ', ' of ') for i in data['title']]\n",
    "    titles = [i.replace('Biotatistics', 'Biostatistics') for i in titles]\n",
    "\n",
    "    count = defaultdict(int)\n",
    "\n",
    "    for title in titles:\n",
    "        count[title] += 1\n",
    "    \n",
    "    return count\n",
    "\n",
    "titlecounts = count_titles(faculty_path)\n",
    "    \n",
    "titlecounts = {\n",
    "    str(key).replace(' ', '').replace('.', '').lower()[:9]: val\n",
    "    for key, val in titlecounts.items()\n",
    "}\n",
    "\n",
    "titles = ['professor', 'associate', 'assistant']\n",
    "assert len(titles) >= len(titlecounts), 'did you get all the different titles?'\n",
    "assert len(titles) == len(titlecounts), 'your output has too many titles'\n",
    "for title in titles:\n",
    "    count = titlecounts.get(title, -1)\n",
    "    print(count)"
   ]
  },
  {
   "cell_type": "code",
   "execution_count": 113,
   "metadata": {},
   "outputs": [
    {
     "name": "stdout",
     "output_type": "stream",
     "text": [
      "dict_keys(['name', 'degree', 'title', 'email'])\n"
     ]
    },
    {
     "data": {
      "text/plain": [
       "['Associate Professor of Biostatistics',\n",
       " 'Professor of Biostatistics',\n",
       " 'Assistant Professor of Biostatistics',\n",
       " 'Associate Professor of Biostatistics',\n",
       " 'Professor of Biostatistics',\n",
       " 'Professor of Biostatistics',\n",
       " 'Assistant Professor of Biostatistics',\n",
       " 'Associate Professor of Biostatistics',\n",
       " 'Professor of Biostatistics',\n",
       " 'Professor of Biostatistics',\n",
       " 'Assistant Professor of Biostatistics',\n",
       " 'Associate Professor of Biostatistics',\n",
       " 'Associate Professor of Biostatistics',\n",
       " 'Professor of Biostatistics',\n",
       " 'Professor of Biostatistics',\n",
       " 'Assistant Professor of Biostatistics',\n",
       " 'Associate Professor of Biostatistics',\n",
       " 'Professor of Biostatistics',\n",
       " 'Associate Professor of Biostatistics',\n",
       " 'Associate Professor of Biostatistics',\n",
       " 'Associate Professor of Biostatistics',\n",
       " 'Professor of Biostatistics',\n",
       " 'Professor of Biostatistics',\n",
       " 'Associate Professor of Biostatistics',\n",
       " 'Assistant Professor of Biostatistics',\n",
       " 'Associate Professor of Biostatistics',\n",
       " 'Professor of Biostatistics',\n",
       " 'Assistant Professor of Biostatistics',\n",
       " 'Assistant Professor of Biostatistics',\n",
       " 'Assistant Professor of Biostatistics',\n",
       " 'Professor of Biostatistics',\n",
       " 'Assistant Professor of Biostatistics',\n",
       " 'Professor of Biostatistics',\n",
       " 'Assistant Professor of Biostatistics',\n",
       " 'Associate Professor of Biostatistics',\n",
       " 'Assistant Professor of Biostatistics',\n",
       " 'Assistant Professor of Biostatistics']"
      ]
     },
     "execution_count": 113,
     "metadata": {},
     "output_type": "execute_result"
    }
   ],
   "source": [
    "print(data.keys())\n",
    "titles = [i.replace(' is ', ' of ') for i in data['title']]\n",
    "titles = [i.replace('Biotatistics', 'Biostatistics') for i in titles]\n",
    "titles"
   ]
  },
  {
   "cell_type": "code",
   "execution_count": 114,
   "metadata": {},
   "outputs": [
    {
     "data": {
      "text/plain": [
       "defaultdict(int,\n",
       "            {'Associate Professor of Biostatistics': 12,\n",
       "             'Professor of Biostatistics': 13,\n",
       "             'Assistant Professor of Biostatistics': 12})"
      ]
     },
     "execution_count": 114,
     "metadata": {},
     "output_type": "execute_result"
    }
   ],
   "source": [
    "from collections import defaultdict\n",
    "\n",
    "count = defaultdict(int)\n",
    "\n",
    "for degree in titles:\n",
    "    count[degree] += 1\n",
    "    \n",
    "count"
   ]
  },
  {
   "cell_type": "code",
   "execution_count": null,
   "metadata": {},
   "outputs": [],
   "source": []
  },
  {
   "cell_type": "code",
   "execution_count": null,
   "metadata": {},
   "outputs": [],
   "source": []
  },
  {
   "cell_type": "code",
   "execution_count": null,
   "metadata": {},
   "outputs": [],
   "source": [
    "#!/bin/python3\n",
    "\n",
    "import sys\n",
    "import os\n",
    "import tempfile\n",
    "from pathlib import Path\n",
    "\n",
    "\n",
    "facultycsv = \"\"\"name, degree, title, email\n",
    "Scarlett L. Bellamy, Sc.D.,Associate Professor of Biostatistics,bellamys@mail.med.upenn.edu\n",
    "Warren B. Bilker,Ph.D.,Professor of Biostatistics,warren@upenn.edu\n",
    "Matthew W Bryan, PhD,Assistant Professor of Biostatistics,bryanma@upenn.edu\n",
    "Jinbo Chen, Ph.D.,Associate Professor of Biostatistics,jinboche@upenn.edu\n",
    "Susan S Ellenberg, Ph.D.,Professor of Biostatistics,sellenbe@upenn.edu\n",
    "Jonas H. Ellenberg, Ph.D.,Professor of Biostatistics,jellenbe@mail.med.upenn.edu\n",
    "Rui Feng, Ph.D,Assistant Professor of Biostatistics,ruifeng@upenn.edu\n",
    "Benjamin C. French, PhD,Associate Professor of Biostatistics,bcfrench@mail.med.upenn.edu\n",
    "Phyllis A. Gimotty, Ph.D,Professor of Biostatistics,pgimotty@upenn.edu\n",
    "Wensheng Guo, Ph.D,Professor of Biostatistics,wguo@mail.med.upenn.edu\n",
    "Yenchih Hsu, Ph.D.,Assistant Professor of Biostatistics,hsu9@mail.med.upenn.edu\n",
    "Rebecca A Hubbard, PhD,Associate Professor of Biostatistics,rhubb@mail.med.upenn.edu\n",
    "Wei-Ting Hwang, Ph.D.,Associate Professor of Biostatistics,whwang@mail.med.upenn.edu\n",
    "Marshall M. Joffe, MD MPH Ph.D,Professor of Biostatistics,mjoffe@mail.med.upenn.edu\n",
    "J. Richard Landis, B.S.Ed. M.S. Ph.D.,Professor of Biostatistics,jrlandis@mail.med.upenn.edu\n",
    "Yimei Li, Ph.D.,Assistant Professor of Biostatistics,liy3@email.chop.edu\n",
    "Mingyao Li, Ph.D.,Associate Professor of Biostatistics,mingyao@mail.med.upenn.edu\n",
    "Hongzhe Li, Ph.D,Professor of Biostatistics,hongzhe@upenn.edu\n",
    "A. Russell Localio, JD MA MPH MS PhD,Associate Professor of Biostatistics,rlocalio@upenn.edu\n",
    "Nandita Mitra, Ph.D.,Associate Professor of Biostatistics,nanditam@mail.med.upenn.edu\n",
    "Knashawn H. Morales, Sc.D.,Associate Professor of Biostatistics,knashawn@mail.med.upenn.edu\n",
    "Kathleen Joy Propert, Sc.D.,Professor of Biostatistics,propert@mail.med.upenn.edu\n",
    "Mary E. Putt, PhD ScD,Professor of Biostatistics,mputt@mail.med.upenn.edu\n",
    "Sarah Jane Ratcliffe, Ph.D.,Associate Professor of Biostatistics,sratclif@upenn.edu\n",
    "Michelle Elana Ross, PhD,Assistant Professor is Biostatistics,michross@upenn.edu\n",
    "Jason A. Roy, Ph.D.,Associate Professor of Biostatistics,jaroy@mail.med.upenn.edu\n",
    "Mary D. Sammel, Sc.D.,Professor of Biostatistics,msammel@cceb.med.upenn.edu\n",
    "Pamela Ann Shaw, PhD,Assistant Professor of Biostatistics,shawp@upenn.edu\n",
    "Russell Takeshi Shinohara,0,Assistant Professor of Biostatistics,rshi@mail.med.upenn.edu\n",
    "Haochang Shou, Ph.D.,Assistant Professor of Biostatistics,hshou@mail.med.upenn.edu\n",
    "Justine Shults, Ph.D.,Professor of Biostatistics,jshults@mail.med.upenn.edu\n",
    "Alisa Jane Stephens, Ph.D.,Assistant Professor of Biostatistics,alisaste@mail.med.upenn.edu\n",
    "Andrea Beth Troxel, ScD,Professor of Biostatistics,atroxel@mail.med.upenn.edu\n",
    "Rui Xiao, PhD,Assistant Professor of Biostatistics,rxiao@mail.med.upenn.edu\n",
    "Sharon Xiangwen Xie, Ph.D.,Associate Professor of Biostatistics,sxie@mail.med.upenn.edu\n",
    "Dawei Xie, PhD,Assistant Professor of Biostatistics,dxie@upenn.edu\n",
    "Wei (Peter) Yang, Ph.D.,Assistant Professor of Biostatistics,weiyang@mail.med.upenn.edu\"\"\"\n",
    "\n",
    "#temp_dir = Path(os.environ['OUTPUT_PATH']).parent\n",
    "\n",
    "#faculty_path = temp_dir / \"faculty.csv\"\n",
    "\n",
    "#faculty_path.write_text(facultycsv)\n",
    "\n",
    "\n",
    "file = open(\"faculty.csv\",\"w\") \n",
    "file.writelines(facultycsv) \n",
    "file.close() #to change file access modes \n",
    "\n",
    "# Complete the function below.\n",
    "import csv\n",
    "from collections import defaultdict\n",
    "\n",
    "\n",
    "def emails(csv_file_name):\n",
    "    ## open the file\n",
    "    with open(csv_file_name, 'r') as infile:\n",
    "        ## read the file as a dictionary for each row ({header : value}) and remove whitespace \n",
    "        reader = csv.DictReader(infile, skipinitialspace=True)\n",
    "        data = {}\n",
    "        for row in reader:\n",
    "            for header, value in row.items():\n",
    "                try:\n",
    "                    data[header].append(value)\n",
    "                except KeyError:\n",
    "                    data[header] = [value]\n",
    "\n",
    "                    \n",
    "    emails = data['email']\n",
    "    \n",
    "    return emails\n",
    "\n",
    "\n",
    "email_list = emails(faculty_path)\n",
    "    \n",
    "for email in sorted(email_list):\n",
    "    print(email.lower())"
   ]
  },
  {
   "cell_type": "code",
   "execution_count": 116,
   "metadata": {},
   "outputs": [
    {
     "name": "stdout",
     "output_type": "stream",
     "text": [
      "dict_keys(['name', 'degree', 'title', 'email'])\n"
     ]
    },
    {
     "data": {
      "text/plain": [
       "['bellamys@mail.med.upenn.edu',\n",
       " 'warren@upenn.edu',\n",
       " 'bryanma@upenn.edu',\n",
       " 'jinboche@upenn.edu',\n",
       " 'sellenbe@upenn.edu',\n",
       " 'jellenbe@mail.med.upenn.edu',\n",
       " 'ruifeng@upenn.edu',\n",
       " 'bcfrench@mail.med.upenn.edu',\n",
       " 'pgimotty@upenn.edu',\n",
       " 'wguo@mail.med.upenn.edu',\n",
       " 'hsu9@mail.med.upenn.edu',\n",
       " 'rhubb@mail.med.upenn.edu',\n",
       " 'whwang@mail.med.upenn.edu',\n",
       " 'mjoffe@mail.med.upenn.edu',\n",
       " 'jrlandis@mail.med.upenn.edu',\n",
       " 'liy3@email.chop.edu',\n",
       " 'mingyao@mail.med.upenn.edu',\n",
       " 'hongzhe@upenn.edu',\n",
       " 'rlocalio@upenn.edu',\n",
       " 'nanditam@mail.med.upenn.edu',\n",
       " 'knashawn@mail.med.upenn.edu',\n",
       " 'propert@mail.med.upenn.edu',\n",
       " 'mputt@mail.med.upenn.edu',\n",
       " 'sratclif@upenn.edu',\n",
       " 'michross@upenn.edu',\n",
       " 'jaroy@mail.med.upenn.edu',\n",
       " 'msammel@cceb.med.upenn.edu',\n",
       " 'shawp@upenn.edu',\n",
       " 'rshi@mail.med.upenn.edu',\n",
       " 'hshou@mail.med.upenn.edu',\n",
       " 'jshults@mail.med.upenn.edu',\n",
       " 'alisaste@mail.med.upenn.edu',\n",
       " 'atroxel@mail.med.upenn.edu',\n",
       " 'rxiao@mail.med.upenn.edu',\n",
       " 'sxie@mail.med.upenn.edu',\n",
       " 'dxie@upenn.edu',\n",
       " 'weiyang@mail.med.upenn.edu']"
      ]
     },
     "execution_count": 116,
     "metadata": {},
     "output_type": "execute_result"
    }
   ],
   "source": [
    "print(data.keys())\n",
    "emails = data['email']\n",
    "emails"
   ]
  },
  {
   "cell_type": "code",
   "execution_count": null,
   "metadata": {},
   "outputs": [],
   "source": []
  },
  {
   "cell_type": "code",
   "execution_count": null,
   "metadata": {},
   "outputs": [],
   "source": []
  },
  {
   "cell_type": "code",
   "execution_count": null,
   "metadata": {},
   "outputs": [],
   "source": [
    "#!/bin/python3\n",
    "import sys\n",
    "import os\n",
    "\n",
    "\n",
    "\n",
    "# Complete the function below.\n",
    "import re \n",
    "\n",
    "def unique_domains(emails):\n",
    "    domain = [re.search(\"@[\\w.]+\", i).group()[1:] for i in emails]\n",
    "    domain = list(set(domain))\n",
    "    return domain\n",
    "\n",
    "emails = sys.stdin.readlines()\n",
    "emails = [email.strip() for email in emails]\n",
    "domains = unique_domains(emails)\n",
    "for domain in sorted(domains):\n",
    "    print(domain)"
   ]
  },
  {
   "cell_type": "code",
   "execution_count": 122,
   "metadata": {},
   "outputs": [
    {
     "name": "stdout",
     "output_type": "stream",
     "text": [
      "My\n",
      "<_sre.SRE_Match object; span=(0, 2), match='My'>\n"
     ]
    }
   ],
   "source": [
    "import re\n",
    "s = 'My name is Conrad, and blahblah@gmail.com is my email.'\n",
    "domain = re.search(\"@[\\w.]+\", s)\n",
    "print(domain.group())\n",
    "print(domain)"
   ]
  },
  {
   "cell_type": "code",
   "execution_count": 126,
   "metadata": {},
   "outputs": [
    {
     "name": "stdout",
     "output_type": "stream",
     "text": [
      "['mail.med.upenn.edu', 'upenn.edu', 'upenn.edu', 'upenn.edu', 'upenn.edu', 'mail.med.upenn.edu', 'upenn.edu', 'mail.med.upenn.edu', 'upenn.edu', 'mail.med.upenn.edu', 'mail.med.upenn.edu', 'mail.med.upenn.edu', 'mail.med.upenn.edu', 'mail.med.upenn.edu', 'mail.med.upenn.edu', 'email.chop.edu', 'mail.med.upenn.edu', 'upenn.edu', 'upenn.edu', 'mail.med.upenn.edu', 'mail.med.upenn.edu', 'mail.med.upenn.edu', 'mail.med.upenn.edu', 'upenn.edu', 'upenn.edu', 'mail.med.upenn.edu', 'cceb.med.upenn.edu', 'upenn.edu', 'mail.med.upenn.edu', 'mail.med.upenn.edu', 'mail.med.upenn.edu', 'mail.med.upenn.edu', 'mail.med.upenn.edu', 'mail.med.upenn.edu', 'mail.med.upenn.edu', 'upenn.edu', 'mail.med.upenn.edu']\n"
     ]
    },
    {
     "data": {
      "text/plain": [
       "['upenn.edu', 'email.chop.edu', 'cceb.med.upenn.edu', 'mail.med.upenn.edu']"
      ]
     },
     "execution_count": 126,
     "metadata": {},
     "output_type": "execute_result"
    }
   ],
   "source": [
    "domain = [re.search(\"@[\\w.]+\", i).group()[1:] for i in emails]\n",
    "print(domain)\n",
    "domain = list(set(domain))\n",
    "domain"
   ]
  },
  {
   "cell_type": "code",
   "execution_count": null,
   "metadata": {},
   "outputs": [],
   "source": []
  },
  {
   "cell_type": "code",
   "execution_count": null,
   "metadata": {},
   "outputs": [],
   "source": [
    "#!/bin/python3\n",
    "import sys\n",
    "import os\n",
    "\n",
    "\n",
    "\n",
    "# Complete the function below.\n",
    "\n",
    "def write_to_csv(list_of_emails):\n",
    "    with open('emails.csv','w') as file:\n",
    "    file.write(\"list_of_emails\\n\")\n",
    "    for line in list_of_emails:\n",
    "        file.write(line)\n",
    "        file.write('\\n')\n",
    "\n",
    "emails = list(map(str.strip, sys.stdin.readlines()))\n",
    "write_to_csv(emails)\n",
    "assert os.path.exists('emails.csv'), 'did you write to \"emails.csv\"?'\n",
    "with open('emails.csv', 'r') as f:\n",
    "    header = f.readline()\n",
    "    emails2 = []\n",
    "    for line in f.readlines():\n",
    "        emails2.append(line.strip())\n",
    "os.remove('emails.csv')\n",
    "assert all(i == j for i, j in zip(emails, emails2)), 'this list of emails is different'\n",
    "assert len(emails) == len(emails2), 'this list of emails is different'\n",
    "print(1)"
   ]
  },
  {
   "cell_type": "code",
   "execution_count": 140,
   "metadata": {},
   "outputs": [],
   "source": []
  },
  {
   "cell_type": "code",
   "execution_count": 184,
   "metadata": {},
   "outputs": [],
   "source": [
    "import csv\n",
    "list_of_emails = emails\n",
    "\n",
    "outfile = open(\"./emails.csv\", \"w\")\n",
    "writer = csv.writer(outfile)\n",
    "writer.writerow([\"list_of_emails\"])\n",
    "writer.writerows(list_of_emails)"
   ]
  },
  {
   "cell_type": "code",
   "execution_count": 182,
   "metadata": {},
   "outputs": [
    {
     "data": {
      "text/plain": [
       "['bellamys@mail.med.upenn.edu',\n",
       " 'warren@upenn.edu',\n",
       " 'bryanma@upenn.edu',\n",
       " 'jinboche@upenn.edu',\n",
       " 'sellenbe@upenn.edu',\n",
       " 'jellenbe@mail.med.upenn.edu',\n",
       " 'ruifeng@upenn.edu',\n",
       " 'bcfrench@mail.med.upenn.edu',\n",
       " 'pgimotty@upenn.edu',\n",
       " 'wguo@mail.med.upenn.edu',\n",
       " 'hsu9@mail.med.upenn.edu',\n",
       " 'rhubb@mail.med.upenn.edu',\n",
       " 'whwang@mail.med.upenn.edu',\n",
       " 'mjoffe@mail.med.upenn.edu',\n",
       " 'jrlandis@mail.med.upenn.edu',\n",
       " 'liy3@email.chop.edu',\n",
       " 'mingyao@mail.med.upenn.edu',\n",
       " 'hongzhe@upenn.edu',\n",
       " 'rlocalio@upenn.edu',\n",
       " 'nanditam@mail.med.upenn.edu',\n",
       " 'knashawn@mail.med.upenn.edu',\n",
       " 'propert@mail.med.upenn.edu',\n",
       " 'mputt@mail.med.upenn.edu',\n",
       " 'sratclif@upenn.edu',\n",
       " 'michross@upenn.edu',\n",
       " 'jaroy@mail.med.upenn.edu',\n",
       " 'msammel@cceb.med.upenn.edu',\n",
       " 'shawp@upenn.edu',\n",
       " 'rshi@mail.med.upenn.edu',\n",
       " 'hshou@mail.med.upenn.edu',\n",
       " 'jshults@mail.med.upenn.edu',\n",
       " 'alisaste@mail.med.upenn.edu',\n",
       " 'atroxel@mail.med.upenn.edu',\n",
       " 'rxiao@mail.med.upenn.edu',\n",
       " 'sxie@mail.med.upenn.edu',\n",
       " 'dxie@upenn.edu',\n",
       " 'weiyang@mail.med.upenn.edu']"
      ]
     },
     "execution_count": 182,
     "metadata": {},
     "output_type": "execute_result"
    }
   ],
   "source": [
    "list_of_emails"
   ]
  },
  {
   "cell_type": "code",
   "execution_count": 188,
   "metadata": {},
   "outputs": [],
   "source": [
    "list_of_emails = emails\n",
    "\n",
    "with open('emails.csv','w') as file:\n",
    "    file.write(\"list_of_emails\\n\")\n",
    "    for line in list_of_emails:\n",
    "        file.write(line)\n",
    "        file.write('\\n')"
   ]
  },
  {
   "cell_type": "code",
   "execution_count": null,
   "metadata": {},
   "outputs": [],
   "source": []
  },
  {
   "cell_type": "code",
   "execution_count": null,
   "metadata": {},
   "outputs": [],
   "source": []
  },
  {
   "cell_type": "code",
   "execution_count": 278,
   "metadata": {},
   "outputs": [
    {
     "name": "stdout",
     "output_type": "stream",
     "text": [
      "Bellamy, Ph.D.,Assistant Professor of Biostatistics,weiyang@mail.med.upenn.edu\n",
      "Bilker, Ph.D.,Assistant Professor of Biostatistics,weiyang@mail.med.upenn.edu\n",
      "Bryan, Ph.D.,Assistant Professor of Biostatistics,weiyang@mail.med.upenn.edu\n",
      "Chen, Ph.D.,Assistant Professor of Biostatistics,weiyang@mail.med.upenn.edu\n",
      "Ellenberg, Ph.D.,Assistant Professor of Biostatistics,weiyang@mail.med.upenn.edu\n",
      "Feng, Ph.D.,Assistant Professor of Biostatistics,weiyang@mail.med.upenn.edu\n",
      "French, Ph.D.,Assistant Professor of Biostatistics,weiyang@mail.med.upenn.edu\n",
      "Gimotty, Ph.D.,Assistant Professor of Biostatistics,weiyang@mail.med.upenn.edu\n",
      "Guo, Ph.D.,Assistant Professor of Biostatistics,weiyang@mail.med.upenn.edu\n",
      "Hsu, Ph.D.,Assistant Professor of Biostatistics,weiyang@mail.med.upenn.edu\n",
      "Hubbard, Ph.D.,Assistant Professor of Biostatistics,weiyang@mail.med.upenn.edu\n",
      "Hwang, Ph.D.,Assistant Professor of Biostatistics,weiyang@mail.med.upenn.edu\n",
      "Joffe, Ph.D.,Assistant Professor of Biostatistics,weiyang@mail.med.upenn.edu\n",
      "Landis, Ph.D.,Assistant Professor of Biostatistics,weiyang@mail.med.upenn.edu\n",
      "Li, Ph.D.,Assistant Professor of Biostatistics,weiyang@mail.med.upenn.edu\n",
      "Localio, Ph.D.,Assistant Professor of Biostatistics,weiyang@mail.med.upenn.edu\n",
      "Mitra, Ph.D.,Assistant Professor of Biostatistics,weiyang@mail.med.upenn.edu\n",
      "Morales, Ph.D.,Assistant Professor of Biostatistics,weiyang@mail.med.upenn.edu\n",
      "Propert, Ph.D.,Assistant Professor of Biostatistics,weiyang@mail.med.upenn.edu\n",
      "Putt, Ph.D.,Assistant Professor of Biostatistics,weiyang@mail.med.upenn.edu\n",
      "Ratcliffe, Ph.D.,Assistant Professor of Biostatistics,weiyang@mail.med.upenn.edu\n",
      "Ross, Ph.D.,Assistant Professor of Biostatistics,weiyang@mail.med.upenn.edu\n",
      "Roy, Ph.D.,Assistant Professor of Biostatistics,weiyang@mail.med.upenn.edu\n",
      "Sammel, Ph.D.,Assistant Professor of Biostatistics,weiyang@mail.med.upenn.edu\n",
      "Shaw, Ph.D.,Assistant Professor of Biostatistics,weiyang@mail.med.upenn.edu\n",
      "Shinohara, Ph.D.,Assistant Professor of Biostatistics,weiyang@mail.med.upenn.edu\n",
      "Shou, Ph.D.,Assistant Professor of Biostatistics,weiyang@mail.med.upenn.edu\n",
      "Shults, Ph.D.,Assistant Professor of Biostatistics,weiyang@mail.med.upenn.edu\n",
      "Stephens, Ph.D.,Assistant Professor of Biostatistics,weiyang@mail.med.upenn.edu\n",
      "Troxel, Ph.D.,Assistant Professor of Biostatistics,weiyang@mail.med.upenn.edu\n",
      "Xiao, Ph.D.,Assistant Professor of Biostatistics,weiyang@mail.med.upenn.edu\n",
      "Xie, Ph.D.,Assistant Professor of Biostatistics,weiyang@mail.med.upenn.edu\n",
      "Yang, Ph.D.,Assistant Professor of Biostatistics,weiyang@mail.med.upenn.edu\n",
      "1\n"
     ]
    }
   ],
   "source": [
    "#!/bin/python3\n",
    "\n",
    "import sys\n",
    "import os\n",
    "#import tempfile\n",
    "#from pathlib import Path\n",
    "\n",
    "\n",
    "facultycsv = \"\"\"name, degree, title, email\n",
    "Scarlett L. Bellamy, Sc.D.,Associate Professor of Biostatistics,bellamys@mail.med.upenn.edu\n",
    "Warren B. Bilker,Ph.D.,Professor of Biostatistics,warren@upenn.edu\n",
    "Matthew W Bryan, PhD,Assistant Professor of Biostatistics,bryanma@upenn.edu\n",
    "Jinbo Chen, Ph.D.,Associate Professor of Biostatistics,jinboche@upenn.edu\n",
    "Susan S Ellenberg, Ph.D.,Professor of Biostatistics,sellenbe@upenn.edu\n",
    "Jonas H. Ellenberg, Ph.D.,Professor of Biostatistics,jellenbe@mail.med.upenn.edu\n",
    "Rui Feng, Ph.D,Assistant Professor of Biostatistics,ruifeng@upenn.edu\n",
    "Benjamin C. French, PhD,Associate Professor of Biostatistics,bcfrench@mail.med.upenn.edu\n",
    "Phyllis A. Gimotty, Ph.D,Professor of Biostatistics,pgimotty@upenn.edu\n",
    "Wensheng Guo, Ph.D,Professor of Biostatistics,wguo@mail.med.upenn.edu\n",
    "Yenchih Hsu, Ph.D.,Assistant Professor of Biostatistics,hsu9@mail.med.upenn.edu\n",
    "Rebecca A Hubbard, PhD,Associate Professor of Biostatistics,rhubb@mail.med.upenn.edu\n",
    "Wei-Ting Hwang, Ph.D.,Associate Professor of Biostatistics,whwang@mail.med.upenn.edu\n",
    "Marshall M. Joffe, MD MPH Ph.D,Professor of Biostatistics,mjoffe@mail.med.upenn.edu\n",
    "J. Richard Landis, B.S.Ed. M.S. Ph.D.,Professor of Biostatistics,jrlandis@mail.med.upenn.edu\n",
    "Yimei Li, Ph.D.,Assistant Professor of Biostatistics,liy3@email.chop.edu\n",
    "Mingyao Li, Ph.D.,Associate Professor of Biostatistics,mingyao@mail.med.upenn.edu\n",
    "Hongzhe Li, Ph.D,Professor of Biostatistics,hongzhe@upenn.edu\n",
    "A. Russell Localio, JD MA MPH MS PhD,Associate Professor of Biostatistics,rlocalio@upenn.edu\n",
    "Nandita Mitra, Ph.D.,Associate Professor of Biostatistics,nanditam@mail.med.upenn.edu\n",
    "Knashawn H. Morales, Sc.D.,Associate Professor of Biostatistics,knashawn@mail.med.upenn.edu\n",
    "Kathleen Joy Propert, Sc.D.,Professor of Biostatistics,propert@mail.med.upenn.edu\n",
    "Mary E. Putt, PhD ScD,Professor of Biostatistics,mputt@mail.med.upenn.edu\n",
    "Sarah Jane Ratcliffe, Ph.D.,Associate Professor of Biostatistics,sratclif@upenn.edu\n",
    "Michelle Elana Ross, PhD,Assistant Professor is Biostatistics,michross@upenn.edu\n",
    "Jason A. Roy, Ph.D.,Associate Professor of Biostatistics,jaroy@mail.med.upenn.edu\n",
    "Mary D. Sammel, Sc.D.,Professor of Biostatistics,msammel@cceb.med.upenn.edu\n",
    "Pamela Ann Shaw, PhD,Assistant Professor of Biostatistics,shawp@upenn.edu\n",
    "Russell Takeshi Shinohara,0,Assistant Professor of Biostatistics,rshi@mail.med.upenn.edu\n",
    "Haochang Shou, Ph.D.,Assistant Professor of Biostatistics,hshou@mail.med.upenn.edu\n",
    "Justine Shults, Ph.D.,Professor of Biostatistics,jshults@mail.med.upenn.edu\n",
    "Alisa Jane Stephens, Ph.D.,Assistant Professor of Biostatistics,alisaste@mail.med.upenn.edu\n",
    "Andrea Beth Troxel, ScD,Professor of Biostatistics,atroxel@mail.med.upenn.edu\n",
    "Rui Xiao, PhD,Assistant Professor of Biostatistics,rxiao@mail.med.upenn.edu\n",
    "Sharon Xiangwen Xie, Ph.D.,Associate Professor of Biostatistics,sxie@mail.med.upenn.edu\n",
    "Dawei Xie, PhD,Assistant Professor of Biostatistics,dxie@upenn.edu\n",
    "Wei (Peter) Yang, Ph.D.,Assistant Professor of Biostatistics,weiyang@mail.med.upenn.edu\"\"\"\n",
    "\n",
    "with open('faculty.csv', 'w') as f:\n",
    "    f.write(facultycsv)\n",
    "    \n",
    "#temp_dir = Path(os.environ['OUTPUT_PATH']).parent\n",
    "\n",
    "#faculty_path = temp_dir / \"faculty.csv\"\n",
    "\n",
    "#faculty_path.write_text(facultycsv)\n",
    "\n",
    "# Complete the function below.\n",
    "# Read the csv file \"faculty.csv\"\n",
    "# Don't hit the url in the problem description.\n",
    "from collections import defaultdict, OrderedDict\n",
    "\n",
    "def get_dict():\n",
    "     \n",
    "    ## open the file\n",
    "    with open('faculty.csv', 'r') as infile:\n",
    "        ## read the file as a dictionary for each row ({header : value}) and remove whitespace \n",
    "        reader = csv.DictReader(infile, skipinitialspace=True)\n",
    "        data = {}\n",
    "        for row in reader:\n",
    "            for header, value in row.items():\n",
    "                try:\n",
    "                    data[header].append(value)\n",
    "                except KeyError:\n",
    "                    data[header] = [value]\n",
    "                    \n",
    "                    \n",
    "    ## extract last names from data\n",
    "    last_names = [i.split()[-1] for i in data['name']]\n",
    "    \n",
    "    ## extract the corresponding row (list of degree, title and email)\n",
    "    others = [ [' ' + i, j, k] for i, j, k in zip(data['degree'], data['title'], data['email'])]\n",
    "\n",
    "    \n",
    "   \n",
    "    \n",
    "    ## dictionary keys as a list of degree, title and email and dictionary keys as last name\n",
    "    ## because keys are IMMUTABLE, we should convert LIST to TUPLE before set them as keys\n",
    "    new_dict = {tuple(k): v for k, v in zip(others, last_names)}\n",
    "\n",
    "    \n",
    "    ## dictionary keys as a list and create a new dictionary with this list as a value\n",
    "    v = defaultdict(list)\n",
    "\n",
    "    for key, value in sorted(new_dict.items()):\n",
    "        v[value].append(list(key))\n",
    "    \n",
    "    \n",
    "    v = dict( OrderedDict(sorted(v.items())) )\n",
    "    \n",
    "    #v = dict((k, v) for k, v in zip(last_names, others) )\n",
    " \n",
    "    return v\n",
    "\n",
    "\n",
    "answer = get_dict()\n",
    "n = 0\n",
    "for key, vals in answer.items():\n",
    "    print('{key},{val}'.format(key=key, val=','.join(val)))\n",
    "    if in facultycsv for val in vals\n",
    "    #assert all('{key},{val}'.format(key=key, val=','.join(val)) in facultycsv for val in vals)\n",
    "    n += len(vals)\n",
    "assert n == facultycsv.count('\\n')\n",
    "print(1)"
   ]
  },
  {
   "cell_type": "code",
   "execution_count": 203,
   "metadata": {},
   "outputs": [
    {
     "name": "stdout",
     "output_type": "stream",
     "text": [
      "dict_keys(['name', 'degree', 'title', 'email'])\n"
     ]
    },
    {
     "data": {
      "text/plain": [
       "['Bellamy',\n",
       " 'Bilker',\n",
       " 'Bryan',\n",
       " 'Chen',\n",
       " 'Ellenberg',\n",
       " 'Ellenberg',\n",
       " 'Feng',\n",
       " 'French',\n",
       " 'Gimotty',\n",
       " 'Guo',\n",
       " 'Hsu',\n",
       " 'Hubbard',\n",
       " 'Hwang',\n",
       " 'Joffe',\n",
       " 'Landis',\n",
       " 'Li',\n",
       " 'Li',\n",
       " 'Li',\n",
       " 'Localio',\n",
       " 'Mitra',\n",
       " 'Morales',\n",
       " 'Propert',\n",
       " 'Putt',\n",
       " 'Ratcliffe',\n",
       " 'Ross',\n",
       " 'Roy',\n",
       " 'Sammel',\n",
       " 'Shaw',\n",
       " 'Shinohara',\n",
       " 'Shou',\n",
       " 'Shults',\n",
       " 'Stephens',\n",
       " 'Troxel',\n",
       " 'Xiao',\n",
       " 'Xie',\n",
       " 'Xie',\n",
       " 'Yang']"
      ]
     },
     "execution_count": 203,
     "metadata": {},
     "output_type": "execute_result"
    }
   ],
   "source": [
    "print(data.keys())\n",
    "last_names = [i.split()[-1] for i in data['name']]\n",
    "last_names"
   ]
  },
  {
   "cell_type": "code",
   "execution_count": 193,
   "metadata": {},
   "outputs": [
    {
     "data": {
      "text/plain": [
       "[('Scarlett L. Bellamy', 'Bellamy'),\n",
       " ('Warren B. Bilker', 'Bilker'),\n",
       " ('Matthew W Bryan', 'Bryan'),\n",
       " ('Jinbo Chen', 'Chen'),\n",
       " ('Susan S Ellenberg', 'Ellenberg'),\n",
       " ('Jonas H. Ellenberg', 'Ellenberg'),\n",
       " ('Rui Feng', 'Feng'),\n",
       " ('Benjamin C. French', 'French'),\n",
       " ('Phyllis A. Gimotty', 'Gimotty'),\n",
       " ('Wensheng Guo', 'Guo'),\n",
       " ('Yenchih Hsu', 'Hsu'),\n",
       " ('Rebecca A Hubbard', 'Hubbard'),\n",
       " ('Wei-Ting Hwang', 'Hwang'),\n",
       " ('Marshall M. Joffe', 'Joffe'),\n",
       " ('J. Richard Landis', 'Landis'),\n",
       " ('Yimei Li', 'Li'),\n",
       " ('Mingyao Li', 'Li'),\n",
       " ('Hongzhe Li', 'Li'),\n",
       " ('A. Russell Localio', 'Localio'),\n",
       " ('Nandita Mitra', 'Mitra'),\n",
       " ('Knashawn H. Morales', 'Morales'),\n",
       " ('Kathleen Joy Propert', 'Propert'),\n",
       " ('Mary E. Putt', 'Putt'),\n",
       " ('Sarah Jane Ratcliffe', 'Ratcliffe'),\n",
       " ('Michelle Elana Ross', 'Ross'),\n",
       " ('Jason A. Roy', 'Roy'),\n",
       " ('Mary D. Sammel', 'Sammel'),\n",
       " ('Pamela Ann Shaw', 'Shaw'),\n",
       " ('Russell Takeshi Shinohara', 'Shinohara'),\n",
       " ('Haochang Shou', 'Shou'),\n",
       " ('Justine Shults', 'Shults'),\n",
       " ('Alisa Jane Stephens', 'Stephens'),\n",
       " ('Andrea Beth Troxel', 'Troxel'),\n",
       " ('Rui Xiao', 'Xiao'),\n",
       " ('Sharon Xiangwen Xie', 'Xie'),\n",
       " ('Dawei Xie', 'Xie'),\n",
       " ('Wei (Peter) Yang', 'Yang')]"
      ]
     },
     "execution_count": 193,
     "metadata": {},
     "output_type": "execute_result"
    }
   ],
   "source": [
    "[(i , i.split()[-1]) for i in data['name']]"
   ]
  },
  {
   "cell_type": "code",
   "execution_count": null,
   "metadata": {},
   "outputs": [],
   "source": []
  },
  {
   "cell_type": "code",
   "execution_count": 218,
   "metadata": {},
   "outputs": [
    {
     "data": {
      "text/plain": [
       "{('Sc.D.',\n",
       "  'Associate Professor of Biostatistics',\n",
       "  'bellamys@mail.med.upenn.edu'): 'Bellamy',\n",
       " ('Ph.D.', 'Professor of Biostatistics', 'warren@upenn.edu'): 'Bilker',\n",
       " ('PhD', 'Assistant Professor of Biostatistics', 'bryanma@upenn.edu'): 'Bryan',\n",
       " ('Ph.D.',\n",
       "  'Associate Professor of Biostatistics',\n",
       "  'jinboche@upenn.edu'): 'Chen',\n",
       " ('Ph.D.', 'Professor of Biostatistics', 'sellenbe@upenn.edu'): 'Ellenberg',\n",
       " ('Ph.D.',\n",
       "  'Professor of Biostatistics',\n",
       "  'jellenbe@mail.med.upenn.edu'): 'Ellenberg',\n",
       " ('Ph.D', 'Assistant Professor of Biostatistics', 'ruifeng@upenn.edu'): 'Feng',\n",
       " ('PhD',\n",
       "  'Associate Professor of Biostatistics',\n",
       "  'bcfrench@mail.med.upenn.edu'): 'French',\n",
       " ('Ph.D', 'Professor of Biostatistics', 'pgimotty@upenn.edu'): 'Gimotty',\n",
       " ('Ph.D', 'Professor of Biostatistics', 'wguo@mail.med.upenn.edu'): 'Guo',\n",
       " ('Ph.D.',\n",
       "  'Assistant Professor of Biostatistics',\n",
       "  'hsu9@mail.med.upenn.edu'): 'Hsu',\n",
       " ('PhD',\n",
       "  'Associate Professor of Biostatistics',\n",
       "  'rhubb@mail.med.upenn.edu'): 'Hubbard',\n",
       " ('Ph.D.',\n",
       "  'Associate Professor of Biostatistics',\n",
       "  'whwang@mail.med.upenn.edu'): 'Hwang',\n",
       " ('MD MPH Ph.D',\n",
       "  'Professor of Biostatistics',\n",
       "  'mjoffe@mail.med.upenn.edu'): 'Joffe',\n",
       " ('B.S.Ed. M.S. Ph.D.',\n",
       "  'Professor of Biostatistics',\n",
       "  'jrlandis@mail.med.upenn.edu'): 'Landis',\n",
       " ('Ph.D.',\n",
       "  'Assistant Professor of Biostatistics',\n",
       "  'liy3@email.chop.edu'): 'Li',\n",
       " ('Ph.D.',\n",
       "  'Associate Professor of Biostatistics',\n",
       "  'mingyao@mail.med.upenn.edu'): 'Li',\n",
       " ('Ph.D', 'Professor of Biostatistics', 'hongzhe@upenn.edu'): 'Li',\n",
       " ('JD MA MPH MS PhD',\n",
       "  'Associate Professor of Biostatistics',\n",
       "  'rlocalio@upenn.edu'): 'Localio',\n",
       " ('Ph.D.',\n",
       "  'Associate Professor of Biostatistics',\n",
       "  'nanditam@mail.med.upenn.edu'): 'Mitra',\n",
       " ('Sc.D.',\n",
       "  'Associate Professor of Biostatistics',\n",
       "  'knashawn@mail.med.upenn.edu'): 'Morales',\n",
       " ('Sc.D.',\n",
       "  'Professor of Biostatistics',\n",
       "  'propert@mail.med.upenn.edu'): 'Propert',\n",
       " ('PhD ScD', 'Professor of Biostatistics', 'mputt@mail.med.upenn.edu'): 'Putt',\n",
       " ('Ph.D.',\n",
       "  'Associate Professor of Biostatistics',\n",
       "  'sratclif@upenn.edu'): 'Ratcliffe',\n",
       " ('PhD', 'Assistant Professor is Biostatistics', 'michross@upenn.edu'): 'Ross',\n",
       " ('Ph.D.',\n",
       "  'Associate Professor of Biostatistics',\n",
       "  'jaroy@mail.med.upenn.edu'): 'Roy',\n",
       " ('Sc.D.',\n",
       "  'Professor of Biostatistics',\n",
       "  'msammel@cceb.med.upenn.edu'): 'Sammel',\n",
       " ('PhD', 'Assistant Professor of Biostatistics', 'shawp@upenn.edu'): 'Shaw',\n",
       " ('0',\n",
       "  'Assistant Professor of Biostatistics',\n",
       "  'rshi@mail.med.upenn.edu'): 'Shinohara',\n",
       " ('Ph.D.',\n",
       "  'Assistant Professor of Biostatistics',\n",
       "  'hshou@mail.med.upenn.edu'): 'Shou',\n",
       " ('Ph.D.',\n",
       "  'Professor of Biostatistics',\n",
       "  'jshults@mail.med.upenn.edu'): 'Shults',\n",
       " ('Ph.D.',\n",
       "  'Assistant Professor of Biostatistics',\n",
       "  'alisaste@mail.med.upenn.edu'): 'Stephens',\n",
       " ('ScD', 'Professor of Biostatistics', 'atroxel@mail.med.upenn.edu'): 'Troxel',\n",
       " ('PhD',\n",
       "  'Assistant Professor of Biotatistics',\n",
       "  'rxiao@mail.med.upenn.edu'): 'Xiao',\n",
       " ('Ph.D.',\n",
       "  'Associate Professor of Biostatistics',\n",
       "  'sxie@mail.med.upenn.edu'): 'Xie',\n",
       " ('PhD', 'Assistant Professor of Biostatistics', 'dxie@upenn.edu'): 'Xie',\n",
       " ('Ph.D.',\n",
       "  'Assistant Professor of Biostatistics',\n",
       "  'weiyang@mail.med.upenn.edu'): 'Yang'}"
      ]
     },
     "execution_count": 218,
     "metadata": {},
     "output_type": "execute_result"
    }
   ],
   "source": [
    "values = [ [i, j, k] for i, j, k in zip(data['degree'], data['title'], data['email'])]\n",
    "#print(len(values), len(last_names))\n",
    "#dict(zip(values, last_names))\n",
    "\n",
    "new_dict = {tuple(k): v for k, v in zip(values, last_names)}\n",
    "new_dict"
   ]
  },
  {
   "cell_type": "code",
   "execution_count": 248,
   "metadata": {},
   "outputs": [
    {
     "data": {
      "text/plain": [
       "{'Shinohara': [['0',\n",
       "   'Assistant Professor of Biostatistics',\n",
       "   'rshi@mail.med.upenn.edu']],\n",
       " 'Landis': [['B.S.Ed. M.S. Ph.D.',\n",
       "   'Professor of Biostatistics',\n",
       "   'jrlandis@mail.med.upenn.edu']],\n",
       " 'Localio': [['JD MA MPH MS PhD',\n",
       "   'Associate Professor of Biostatistics',\n",
       "   'rlocalio@upenn.edu']],\n",
       " 'Joffe': [['MD MPH Ph.D',\n",
       "   'Professor of Biostatistics',\n",
       "   'mjoffe@mail.med.upenn.edu']],\n",
       " 'Feng': [['Ph.D',\n",
       "   'Assistant Professor of Biostatistics',\n",
       "   'ruifeng@upenn.edu']],\n",
       " 'Li': [['Ph.D', 'Professor of Biostatistics', 'hongzhe@upenn.edu'],\n",
       "  ['Ph.D.', 'Assistant Professor of Biostatistics', 'liy3@email.chop.edu'],\n",
       "  ['Ph.D.',\n",
       "   'Associate Professor of Biostatistics',\n",
       "   'mingyao@mail.med.upenn.edu']],\n",
       " 'Gimotty': [['Ph.D', 'Professor of Biostatistics', 'pgimotty@upenn.edu']],\n",
       " 'Guo': [['Ph.D', 'Professor of Biostatistics', 'wguo@mail.med.upenn.edu']],\n",
       " 'Stephens': [['Ph.D.',\n",
       "   'Assistant Professor of Biostatistics',\n",
       "   'alisaste@mail.med.upenn.edu']],\n",
       " 'Shou': [['Ph.D.',\n",
       "   'Assistant Professor of Biostatistics',\n",
       "   'hshou@mail.med.upenn.edu']],\n",
       " 'Hsu': [['Ph.D.',\n",
       "   'Assistant Professor of Biostatistics',\n",
       "   'hsu9@mail.med.upenn.edu']],\n",
       " 'Yang': [['Ph.D.',\n",
       "   'Assistant Professor of Biostatistics',\n",
       "   'weiyang@mail.med.upenn.edu']],\n",
       " 'Roy': [['Ph.D.',\n",
       "   'Associate Professor of Biostatistics',\n",
       "   'jaroy@mail.med.upenn.edu']],\n",
       " 'Chen': [['Ph.D.',\n",
       "   'Associate Professor of Biostatistics',\n",
       "   'jinboche@upenn.edu']],\n",
       " 'Mitra': [['Ph.D.',\n",
       "   'Associate Professor of Biostatistics',\n",
       "   'nanditam@mail.med.upenn.edu']],\n",
       " 'Ratcliffe': [['Ph.D.',\n",
       "   'Associate Professor of Biostatistics',\n",
       "   'sratclif@upenn.edu']],\n",
       " 'Xie': [['Ph.D.',\n",
       "   'Associate Professor of Biostatistics',\n",
       "   'sxie@mail.med.upenn.edu'],\n",
       "  ['PhD', 'Assistant Professor of Biostatistics', 'dxie@upenn.edu']],\n",
       " 'Hwang': [['Ph.D.',\n",
       "   'Associate Professor of Biostatistics',\n",
       "   'whwang@mail.med.upenn.edu']],\n",
       " 'Ellenberg': [['Ph.D.',\n",
       "   'Professor of Biostatistics',\n",
       "   'jellenbe@mail.med.upenn.edu'],\n",
       "  ['Ph.D.', 'Professor of Biostatistics', 'sellenbe@upenn.edu']],\n",
       " 'Shults': [['Ph.D.',\n",
       "   'Professor of Biostatistics',\n",
       "   'jshults@mail.med.upenn.edu']],\n",
       " 'Bilker': [['Ph.D.', 'Professor of Biostatistics', 'warren@upenn.edu']],\n",
       " 'Ross': [['PhD',\n",
       "   'Assistant Professor is Biostatistics',\n",
       "   'michross@upenn.edu']],\n",
       " 'Bryan': [['PhD',\n",
       "   'Assistant Professor of Biostatistics',\n",
       "   'bryanma@upenn.edu']],\n",
       " 'Shaw': [['PhD', 'Assistant Professor of Biostatistics', 'shawp@upenn.edu']],\n",
       " 'Xiao': [['PhD',\n",
       "   'Assistant Professor of Biotatistics',\n",
       "   'rxiao@mail.med.upenn.edu']],\n",
       " 'French': [['PhD',\n",
       "   'Associate Professor of Biostatistics',\n",
       "   'bcfrench@mail.med.upenn.edu']],\n",
       " 'Hubbard': [['PhD',\n",
       "   'Associate Professor of Biostatistics',\n",
       "   'rhubb@mail.med.upenn.edu']],\n",
       " 'Putt': [['PhD ScD',\n",
       "   'Professor of Biostatistics',\n",
       "   'mputt@mail.med.upenn.edu']],\n",
       " 'Bellamy': [['Sc.D.',\n",
       "   'Associate Professor of Biostatistics',\n",
       "   'bellamys@mail.med.upenn.edu']],\n",
       " 'Morales': [['Sc.D.',\n",
       "   'Associate Professor of Biostatistics',\n",
       "   'knashawn@mail.med.upenn.edu']],\n",
       " 'Sammel': [['Sc.D.',\n",
       "   'Professor of Biostatistics',\n",
       "   'msammel@cceb.med.upenn.edu']],\n",
       " 'Propert': [['Sc.D.',\n",
       "   'Professor of Biostatistics',\n",
       "   'propert@mail.med.upenn.edu']],\n",
       " 'Troxel': [['ScD',\n",
       "   'Professor of Biostatistics',\n",
       "   'atroxel@mail.med.upenn.edu']]}"
      ]
     },
     "execution_count": 248,
     "metadata": {},
     "output_type": "execute_result"
    }
   ],
   "source": [
    "v = defaultdict(list)\n",
    "\n",
    "for key, value in sorted(new_dict.items()):\n",
    "    v[value].append(list(key))\n",
    "    \n",
    "v = dict(v)\n",
    "v"
   ]
  },
  {
   "cell_type": "code",
   "execution_count": 250,
   "metadata": {},
   "outputs": [
    {
     "name": "stdout",
     "output_type": "stream",
     "text": [
      "{'Bellamy': [['Sc.D.', 'Associate Professor of Biostatistics', 'bellamys@mail.med.upenn.edu']], 'Bilker': [['Ph.D.', 'Professor of Biostatistics', 'warren@upenn.edu']], 'Bryan': [['PhD', 'Assistant Professor of Biostatistics', 'bryanma@upenn.edu']], 'Chen': [['Ph.D.', 'Associate Professor of Biostatistics', 'jinboche@upenn.edu']], 'Ellenberg': [['Ph.D.', 'Professor of Biostatistics', 'jellenbe@mail.med.upenn.edu'], ['Ph.D.', 'Professor of Biostatistics', 'sellenbe@upenn.edu']], 'Feng': [['Ph.D', 'Assistant Professor of Biostatistics', 'ruifeng@upenn.edu']], 'French': [['PhD', 'Associate Professor of Biostatistics', 'bcfrench@mail.med.upenn.edu']], 'Gimotty': [['Ph.D', 'Professor of Biostatistics', 'pgimotty@upenn.edu']], 'Guo': [['Ph.D', 'Professor of Biostatistics', 'wguo@mail.med.upenn.edu']], 'Hsu': [['Ph.D.', 'Assistant Professor of Biostatistics', 'hsu9@mail.med.upenn.edu']], 'Hubbard': [['PhD', 'Associate Professor of Biostatistics', 'rhubb@mail.med.upenn.edu']], 'Hwang': [['Ph.D.', 'Associate Professor of Biostatistics', 'whwang@mail.med.upenn.edu']], 'Joffe': [['MD MPH Ph.D', 'Professor of Biostatistics', 'mjoffe@mail.med.upenn.edu']], 'Landis': [['B.S.Ed. M.S. Ph.D.', 'Professor of Biostatistics', 'jrlandis@mail.med.upenn.edu']], 'Li': [['Ph.D', 'Professor of Biostatistics', 'hongzhe@upenn.edu'], ['Ph.D.', 'Assistant Professor of Biostatistics', 'liy3@email.chop.edu'], ['Ph.D.', 'Associate Professor of Biostatistics', 'mingyao@mail.med.upenn.edu']], 'Localio': [['JD MA MPH MS PhD', 'Associate Professor of Biostatistics', 'rlocalio@upenn.edu']], 'Mitra': [['Ph.D.', 'Associate Professor of Biostatistics', 'nanditam@mail.med.upenn.edu']], 'Morales': [['Sc.D.', 'Associate Professor of Biostatistics', 'knashawn@mail.med.upenn.edu']], 'Propert': [['Sc.D.', 'Professor of Biostatistics', 'propert@mail.med.upenn.edu']], 'Putt': [['PhD ScD', 'Professor of Biostatistics', 'mputt@mail.med.upenn.edu']], 'Ratcliffe': [['Ph.D.', 'Associate Professor of Biostatistics', 'sratclif@upenn.edu']], 'Ross': [['PhD', 'Assistant Professor is Biostatistics', 'michross@upenn.edu']], 'Roy': [['Ph.D.', 'Associate Professor of Biostatistics', 'jaroy@mail.med.upenn.edu']], 'Sammel': [['Sc.D.', 'Professor of Biostatistics', 'msammel@cceb.med.upenn.edu']], 'Shaw': [['PhD', 'Assistant Professor of Biostatistics', 'shawp@upenn.edu']], 'Shinohara': [['0', 'Assistant Professor of Biostatistics', 'rshi@mail.med.upenn.edu']], 'Shou': [['Ph.D.', 'Assistant Professor of Biostatistics', 'hshou@mail.med.upenn.edu']], 'Shults': [['Ph.D.', 'Professor of Biostatistics', 'jshults@mail.med.upenn.edu']], 'Stephens': [['Ph.D.', 'Assistant Professor of Biostatistics', 'alisaste@mail.med.upenn.edu']], 'Troxel': [['ScD', 'Professor of Biostatistics', 'atroxel@mail.med.upenn.edu']], 'Xiao': [['PhD', 'Assistant Professor of Biostatistics', 'rxiao@mail.med.upenn.edu']], 'Xie': [['Ph.D.', 'Associate Professor of Biostatistics', 'sxie@mail.med.upenn.edu'], ['PhD', 'Assistant Professor of Biostatistics', 'dxie@upenn.edu']], 'Yang': [['Ph.D.', 'Assistant Professor of Biostatistics', 'weiyang@mail.med.upenn.edu']]}\n",
      "Bellamy [['Sc.D.', 'Associate Professor of Biostatistics', 'bellamys@mail.med.upenn.edu']]\n",
      "Bilker [['Ph.D.', 'Professor of Biostatistics', 'warren@upenn.edu']]\n",
      "Bryan [['PhD', 'Assistant Professor of Biostatistics', 'bryanma@upenn.edu']]\n",
      "Chen [['Ph.D.', 'Associate Professor of Biostatistics', 'jinboche@upenn.edu']]\n",
      "Ellenberg [['Ph.D.', 'Professor of Biostatistics', 'jellenbe@mail.med.upenn.edu'], ['Ph.D.', 'Professor of Biostatistics', 'sellenbe@upenn.edu']]\n",
      "Feng [['Ph.D', 'Assistant Professor of Biostatistics', 'ruifeng@upenn.edu']]\n",
      "French [['PhD', 'Associate Professor of Biostatistics', 'bcfrench@mail.med.upenn.edu']]\n",
      "Gimotty [['Ph.D', 'Professor of Biostatistics', 'pgimotty@upenn.edu']]\n",
      "Guo [['Ph.D', 'Professor of Biostatistics', 'wguo@mail.med.upenn.edu']]\n",
      "Hsu [['Ph.D.', 'Assistant Professor of Biostatistics', 'hsu9@mail.med.upenn.edu']]\n",
      "Hubbard [['PhD', 'Associate Professor of Biostatistics', 'rhubb@mail.med.upenn.edu']]\n",
      "Hwang [['Ph.D.', 'Associate Professor of Biostatistics', 'whwang@mail.med.upenn.edu']]\n",
      "Joffe [['MD MPH Ph.D', 'Professor of Biostatistics', 'mjoffe@mail.med.upenn.edu']]\n",
      "Landis [['B.S.Ed. M.S. Ph.D.', 'Professor of Biostatistics', 'jrlandis@mail.med.upenn.edu']]\n",
      "Li [['Ph.D', 'Professor of Biostatistics', 'hongzhe@upenn.edu'], ['Ph.D.', 'Assistant Professor of Biostatistics', 'liy3@email.chop.edu'], ['Ph.D.', 'Associate Professor of Biostatistics', 'mingyao@mail.med.upenn.edu']]\n",
      "Localio [['JD MA MPH MS PhD', 'Associate Professor of Biostatistics', 'rlocalio@upenn.edu']]\n",
      "Mitra [['Ph.D.', 'Associate Professor of Biostatistics', 'nanditam@mail.med.upenn.edu']]\n",
      "Morales [['Sc.D.', 'Associate Professor of Biostatistics', 'knashawn@mail.med.upenn.edu']]\n",
      "Propert [['Sc.D.', 'Professor of Biostatistics', 'propert@mail.med.upenn.edu']]\n",
      "Putt [['PhD ScD', 'Professor of Biostatistics', 'mputt@mail.med.upenn.edu']]\n",
      "Ratcliffe [['Ph.D.', 'Associate Professor of Biostatistics', 'sratclif@upenn.edu']]\n",
      "Ross [['PhD', 'Assistant Professor is Biostatistics', 'michross@upenn.edu']]\n",
      "Roy [['Ph.D.', 'Associate Professor of Biostatistics', 'jaroy@mail.med.upenn.edu']]\n",
      "Sammel [['Sc.D.', 'Professor of Biostatistics', 'msammel@cceb.med.upenn.edu']]\n",
      "Shaw [['PhD', 'Assistant Professor of Biostatistics', 'shawp@upenn.edu']]\n",
      "Shinohara [['0', 'Assistant Professor of Biostatistics', 'rshi@mail.med.upenn.edu']]\n",
      "Shou [['Ph.D.', 'Assistant Professor of Biostatistics', 'hshou@mail.med.upenn.edu']]\n",
      "Shults [['Ph.D.', 'Professor of Biostatistics', 'jshults@mail.med.upenn.edu']]\n",
      "Stephens [['Ph.D.', 'Assistant Professor of Biostatistics', 'alisaste@mail.med.upenn.edu']]\n",
      "Troxel [['ScD', 'Professor of Biostatistics', 'atroxel@mail.med.upenn.edu']]\n",
      "Xiao [['PhD', 'Assistant Professor of Biostatistics', 'rxiao@mail.med.upenn.edu']]\n",
      "Xie [['Ph.D.', 'Associate Professor of Biostatistics', 'sxie@mail.med.upenn.edu'], ['PhD', 'Assistant Professor of Biostatistics', 'dxie@upenn.edu']]\n",
      "Yang [['Ph.D.', 'Assistant Professor of Biostatistics', 'weiyang@mail.med.upenn.edu']]\n",
      "33 37\n"
     ]
    }
   ],
   "source": [
    "answer = get_dict()\n",
    "\n",
    "n = 0\n",
    "for key, vals in answer.items():\n",
    "    print(key, vals)\n",
    "    n +=1\n",
    "    #assert all('{key},{val}'.format(key=key, val=','.join(val)) in facultycsv for val in vals)\n",
    "print(n, facultycsv.count('\\n'))"
   ]
  },
  {
   "cell_type": "code",
   "execution_count": 249,
   "metadata": {},
   "outputs": [
    {
     "data": {
      "text/plain": [
       "defaultdict(list, {6: [1], 1: [2, 3, 6], 9: [4, 5]})"
      ]
     },
     "execution_count": 249,
     "metadata": {},
     "output_type": "execute_result"
    }
   ],
   "source": [
    "from collections import defaultdict\n",
    "d = {1: 6, 2: 1, 3: 1, 4: 9, 5: 9, 6: 1}\n",
    "v = defaultdict(list)\n",
    "\n",
    "for key, value in sorted(d.items()):\n",
    "    v[value].append(key)\n",
    "    \n",
    "v"
   ]
  },
  {
   "cell_type": "code",
   "execution_count": 275,
   "metadata": {},
   "outputs": [
    {
     "name": "stdout",
     "output_type": "stream",
     "text": [
      "1\n",
      "1\n",
      "1\n",
      "1\n",
      "1\n",
      "1\n",
      "1\n",
      "1\n",
      "1\n",
      "1\n",
      "1\n",
      "1\n",
      "1\n",
      "1\n",
      "1\n",
      "1\n",
      "1\n",
      "1\n",
      "1\n",
      "1\n",
      "1\n",
      "1\n",
      "1\n",
      "1\n",
      "1\n",
      "1\n",
      "1\n",
      "1\n",
      "1\n",
      "1\n",
      "1\n",
      "1\n",
      "1\n",
      "1\n",
      "1\n"
     ]
    }
   ],
   "source": [
    "answer = get_dict()\n",
    "n = 0\n",
    "for key, vals in answer.items():\n",
    "    for val in vals:\n",
    "        #print(val)\n",
    "        #print('{key},{val}'.format(key=key, val=','.join(val)) )\n",
    "        x = '{key},{val}'.format(key=key, val=','.join(val))\n",
    "        if x in facultycsv:\n",
    "            print(1)\n",
    "    #assert all('{key},{val}'.format(key=key, val=','.join(val)) in facultycsv for val in vals)\n",
    "    #n += len(vals)"
   ]
  },
  {
   "cell_type": "code",
   "execution_count": null,
   "metadata": {},
   "outputs": [],
   "source": []
  },
  {
   "cell_type": "code",
   "execution_count": 274,
   "metadata": {},
   "outputs": [
    {
     "name": "stdout",
     "output_type": "stream",
     "text": [
      "1\n"
     ]
    }
   ],
   "source": [
    "x='Bellamy, Sc.D.,Associate Professor of Biostatistics,bellamys@mail.med.upenn.edu'\n",
    "x='Yang, Ph.D.,Assistant Professor of Biostatistics,weiyang@mail.med.upenn.edu'\n",
    "x='Yang, Ph.D.,Assistant Professor of Biostatistics,weiyang@mail.med.upenn.edu'\n",
    "if x in facultycsv:\n",
    "    print(1)"
   ]
  },
  {
   "cell_type": "code",
   "execution_count": null,
   "metadata": {},
   "outputs": [],
   "source": []
  },
  {
   "cell_type": "code",
   "execution_count": null,
   "metadata": {},
   "outputs": [],
   "source": []
  },
  {
   "cell_type": "code",
   "execution_count": 300,
   "metadata": {},
   "outputs": [
    {
     "ename": "AssertionError",
     "evalue": "",
     "output_type": "error",
     "traceback": [
      "\u001b[0;31m---------------------------------------------------------------------------\u001b[0m",
      "\u001b[0;31mAssertionError\u001b[0m                            Traceback (most recent call last)",
      "\u001b[0;32m<ipython-input-300-7512db5c6a6e>\u001b[0m in \u001b[0;36m<module>\u001b[0;34m()\u001b[0m\n\u001b[1;32m     80\u001b[0m \u001b[0manswer\u001b[0m \u001b[0;34m=\u001b[0m \u001b[0mget_dict\u001b[0m\u001b[0;34m(\u001b[0m\u001b[0;34m)\u001b[0m\u001b[0;34m\u001b[0m\u001b[0;34m\u001b[0m\u001b[0m\n\u001b[1;32m     81\u001b[0m \u001b[0;32mfor\u001b[0m \u001b[0mkey\u001b[0m\u001b[0;34m,\u001b[0m \u001b[0mval\u001b[0m \u001b[0;32min\u001b[0m \u001b[0manswer\u001b[0m\u001b[0;34m.\u001b[0m\u001b[0mitems\u001b[0m\u001b[0;34m(\u001b[0m\u001b[0;34m)\u001b[0m\u001b[0;34m:\u001b[0m\u001b[0;34m\u001b[0m\u001b[0;34m\u001b[0m\u001b[0m\n\u001b[0;32m---> 82\u001b[0;31m     \u001b[0;32massert\u001b[0m \u001b[0;34m'{key},{val}'\u001b[0m\u001b[0;34m.\u001b[0m\u001b[0mformat\u001b[0m\u001b[0;34m(\u001b[0m\u001b[0mkey\u001b[0m\u001b[0;34m=\u001b[0m\u001b[0;34m' '\u001b[0m\u001b[0;34m.\u001b[0m\u001b[0mjoin\u001b[0m\u001b[0;34m(\u001b[0m\u001b[0mkey\u001b[0m\u001b[0;34m)\u001b[0m\u001b[0;34m,\u001b[0m \u001b[0mval\u001b[0m\u001b[0;34m=\u001b[0m\u001b[0;34m','\u001b[0m\u001b[0;34m.\u001b[0m\u001b[0mjoin\u001b[0m\u001b[0;34m(\u001b[0m\u001b[0mval\u001b[0m\u001b[0;34m)\u001b[0m\u001b[0;34m)\u001b[0m \u001b[0;32min\u001b[0m \u001b[0mfacultycsv\u001b[0m\u001b[0;34m\u001b[0m\u001b[0;34m\u001b[0m\u001b[0m\n\u001b[0m\u001b[1;32m     83\u001b[0m \u001b[0;32massert\u001b[0m \u001b[0mlen\u001b[0m\u001b[0;34m(\u001b[0m\u001b[0manswer\u001b[0m\u001b[0;34m)\u001b[0m \u001b[0;34m==\u001b[0m \u001b[0mfacultycsv\u001b[0m\u001b[0;34m.\u001b[0m\u001b[0mcount\u001b[0m\u001b[0;34m(\u001b[0m\u001b[0;34m'\\n'\u001b[0m\u001b[0;34m)\u001b[0m\u001b[0;34m\u001b[0m\u001b[0;34m\u001b[0m\u001b[0m\n\u001b[1;32m     84\u001b[0m \u001b[0mprint\u001b[0m\u001b[0;34m(\u001b[0m\u001b[0;36m1\u001b[0m\u001b[0;34m)\u001b[0m\u001b[0;34m\u001b[0m\u001b[0;34m\u001b[0m\u001b[0m\n",
      "\u001b[0;31mAssertionError\u001b[0m: "
     ]
    }
   ],
   "source": [
    "#!/bin/python3\n",
    "\n",
    "import sys\n",
    "import os\n",
    "\n",
    "\n",
    "facultycsv = \"\"\"name, degree, title, email\n",
    "Scarlett L. Bellamy, Sc.D.,Associate Professor of Biostatistics,bellamys@mail.med.upenn.edu\n",
    "Warren B. Bilker,Ph.D.,Professor of Biostatistics,warren@upenn.edu\n",
    "Matthew W Bryan, PhD,Assistant Professor of Biostatistics,bryanma@upenn.edu\n",
    "Jinbo Chen, Ph.D.,Associate Professor of Biostatistics,jinboche@upenn.edu\n",
    "Susan S Ellenberg, Ph.D.,Professor of Biostatistics,sellenbe@upenn.edu\n",
    "Jonas H. Ellenberg, Ph.D.,Professor of Biostatistics,jellenbe@mail.med.upenn.edu\n",
    "Rui Feng, Ph.D,Assistant Professor of Biostatistics,ruifeng@upenn.edu\n",
    "Benjamin C. French, PhD,Associate Professor of Biostatistics,bcfrench@mail.med.upenn.edu\n",
    "Phyllis A. Gimotty, Ph.D,Professor of Biostatistics,pgimotty@upenn.edu\n",
    "Wensheng Guo, Ph.D,Professor of Biostatistics,wguo@mail.med.upenn.edu\n",
    "Yenchih Hsu, Ph.D.,Assistant Professor of Biostatistics,hsu9@mail.med.upenn.edu\n",
    "Rebecca A Hubbard, PhD,Associate Professor of Biostatistics,rhubb@mail.med.upenn.edu\n",
    "Wei-Ting Hwang, Ph.D.,Associate Professor of Biostatistics,whwang@mail.med.upenn.edu\n",
    "Marshall M. Joffe, MD MPH Ph.D,Professor of Biostatistics,mjoffe@mail.med.upenn.edu\n",
    "J. Richard Landis, B.S.Ed. M.S. Ph.D.,Professor of Biostatistics,jrlandis@mail.med.upenn.edu\n",
    "Yimei Li, Ph.D.,Assistant Professor of Biostatistics,liy3@email.chop.edu\n",
    "Mingyao Li, Ph.D.,Associate Professor of Biostatistics,mingyao@mail.med.upenn.edu\n",
    "Hongzhe Li, Ph.D,Professor of Biostatistics,hongzhe@upenn.edu\n",
    "A. Russell Localio, JD MA MPH MS PhD,Associate Professor of Biostatistics,rlocalio@upenn.edu\n",
    "Nandita Mitra, Ph.D.,Associate Professor of Biostatistics,nanditam@mail.med.upenn.edu\n",
    "Knashawn H. Morales, Sc.D.,Associate Professor of Biostatistics,knashawn@mail.med.upenn.edu\n",
    "Kathleen Joy Propert, Sc.D.,Professor of Biostatistics,propert@mail.med.upenn.edu\n",
    "Mary E. Putt, PhD ScD,Professor of Biostatistics,mputt@mail.med.upenn.edu\n",
    "Sarah Jane Ratcliffe, Ph.D.,Associate Professor of Biostatistics,sratclif@upenn.edu\n",
    "Michelle Elana Ross, PhD,Assistant Professor is Biostatistics,michross@upenn.edu\n",
    "Jason A. Roy, Ph.D.,Associate Professor of Biostatistics,jaroy@mail.med.upenn.edu\n",
    "Mary D. Sammel, Sc.D.,Professor of Biostatistics,msammel@cceb.med.upenn.edu\n",
    "Pamela Ann Shaw, PhD,Assistant Professor of Biostatistics,shawp@upenn.edu\n",
    "Russell Takeshi Shinohara,0,Assistant Professor of Biostatistics,rshi@mail.med.upenn.edu\n",
    "Haochang Shou, Ph.D.,Assistant Professor of Biostatistics,hshou@mail.med.upenn.edu\n",
    "Justine Shults, Ph.D.,Professor of Biostatistics,jshults@mail.med.upenn.edu\n",
    "Alisa Jane Stephens, Ph.D.,Assistant Professor of Biostatistics,alisaste@mail.med.upenn.edu\n",
    "Andrea Beth Troxel, ScD,Professor of Biostatistics,atroxel@mail.med.upenn.edu\n",
    "Rui Xiao, PhD,Assistant Professor of Biostatistics,rxiao@mail.med.upenn.edu\n",
    "Sharon Xiangwen Xie, Ph.D.,Associate Professor of Biostatistics,sxie@mail.med.upenn.edu\n",
    "Dawei Xie, PhD,Assistant Professor of Biostatistics,dxie@upenn.edu\n",
    "Wei (Peter) Yang, Ph.D.,Assistant Professor of Biostatistics,weiyang@mail.med.upenn.edu\"\"\"\n",
    "\n",
    "with open('faculty.csv', 'w') as f:\n",
    "    f.write(facultycsv)\n",
    "\n",
    "# Complete the function below.\n",
    "\n",
    "def get_dict():\n",
    "    \n",
    "    ## open the file\n",
    "    with open('faculty.csv', 'r') as infile:\n",
    "        ## read the file as a dictionary for each row ({header : value}) and remove whitespace \n",
    "        reader = csv.DictReader(infile, skipinitialspace=True)\n",
    "        data = {}\n",
    "        for row in reader:\n",
    "            for header, value in row.items():\n",
    "                try:\n",
    "                    data[header].append(value)\n",
    "                except KeyError:\n",
    "                    data[header] = [value]\n",
    "\n",
    "                    \n",
    "    ## extract last names from data\n",
    "    names = [tuple(i.split()) for i in data['name']]\n",
    "    \n",
    "    ## extract the corresponding row (list of degree, title and email)\n",
    "    others = [ [' ' + i, j, k] for i, j, k in zip(data['degree'], data['title'], data['email'])]\n",
    "    \n",
    " \n",
    "    ## dictionary keys as tuple of name and dictionary values as a list of degree, title and email  \n",
    "    new_dict = {k: v for k, v in zip(names, others)}\n",
    " \n",
    "    return new_dict                    \n",
    "                    \n",
    "                    \n",
    "answer = get_dict()\n",
    "for key, val in answer.items():\n",
    "    assert '{key},{val}'.format(key=' '.join(key), val=','.join(val)) in facultycsv\n",
    "assert len(answer) == facultycsv.count('\\n')\n",
    "print(1)"
   ]
  },
  {
   "cell_type": "code",
   "execution_count": 301,
   "metadata": {},
   "outputs": [
    {
     "name": "stdout",
     "output_type": "stream",
     "text": [
      "37\n",
      "37\n"
     ]
    },
    {
     "data": {
      "text/plain": [
       "{('Scarlett', 'L.', 'Bellamy'): [' Sc.D.',\n",
       "  'Associate Professor of Biostatistics',\n",
       "  'bellamys@mail.med.upenn.edu'],\n",
       " ('Warren', 'B.', 'Bilker'): [' Ph.D.',\n",
       "  'Professor of Biostatistics',\n",
       "  'warren@upenn.edu'],\n",
       " ('Matthew', 'W', 'Bryan'): [' PhD',\n",
       "  'Assistant Professor of Biostatistics',\n",
       "  'bryanma@upenn.edu'],\n",
       " ('Jinbo', 'Chen'): [' Ph.D.',\n",
       "  'Associate Professor of Biostatistics',\n",
       "  'jinboche@upenn.edu'],\n",
       " ('Susan', 'S', 'Ellenberg'): [' Ph.D.',\n",
       "  'Professor of Biostatistics',\n",
       "  'sellenbe@upenn.edu'],\n",
       " ('Jonas', 'H.', 'Ellenberg'): [' Ph.D.',\n",
       "  'Professor of Biostatistics',\n",
       "  'jellenbe@mail.med.upenn.edu'],\n",
       " ('Rui', 'Feng'): [' Ph.D',\n",
       "  'Assistant Professor of Biostatistics',\n",
       "  'ruifeng@upenn.edu'],\n",
       " ('Benjamin', 'C.', 'French'): [' PhD',\n",
       "  'Associate Professor of Biostatistics',\n",
       "  'bcfrench@mail.med.upenn.edu'],\n",
       " ('Phyllis', 'A.', 'Gimotty'): [' Ph.D',\n",
       "  'Professor of Biostatistics',\n",
       "  'pgimotty@upenn.edu'],\n",
       " ('Wensheng', 'Guo'): [' Ph.D',\n",
       "  'Professor of Biostatistics',\n",
       "  'wguo@mail.med.upenn.edu'],\n",
       " ('Yenchih', 'Hsu'): [' Ph.D.',\n",
       "  'Assistant Professor of Biostatistics',\n",
       "  'hsu9@mail.med.upenn.edu'],\n",
       " ('Rebecca', 'A', 'Hubbard'): [' PhD',\n",
       "  'Associate Professor of Biostatistics',\n",
       "  'rhubb@mail.med.upenn.edu'],\n",
       " ('Wei-Ting', 'Hwang'): [' Ph.D.',\n",
       "  'Associate Professor of Biostatistics',\n",
       "  'whwang@mail.med.upenn.edu'],\n",
       " ('Marshall', 'M.', 'Joffe'): [' MD MPH Ph.D',\n",
       "  'Professor of Biostatistics',\n",
       "  'mjoffe@mail.med.upenn.edu'],\n",
       " ('J.', 'Richard', 'Landis'): [' B.S.Ed. M.S. Ph.D.',\n",
       "  'Professor of Biostatistics',\n",
       "  'jrlandis@mail.med.upenn.edu'],\n",
       " ('Yimei', 'Li'): [' Ph.D.',\n",
       "  'Assistant Professor of Biostatistics',\n",
       "  'liy3@email.chop.edu'],\n",
       " ('Mingyao', 'Li'): [' Ph.D.',\n",
       "  'Associate Professor of Biostatistics',\n",
       "  'mingyao@mail.med.upenn.edu'],\n",
       " ('Hongzhe', 'Li'): [' Ph.D',\n",
       "  'Professor of Biostatistics',\n",
       "  'hongzhe@upenn.edu'],\n",
       " ('A.', 'Russell', 'Localio'): [' JD MA MPH MS PhD',\n",
       "  'Associate Professor of Biostatistics',\n",
       "  'rlocalio@upenn.edu'],\n",
       " ('Nandita', 'Mitra'): [' Ph.D.',\n",
       "  'Associate Professor of Biostatistics',\n",
       "  'nanditam@mail.med.upenn.edu'],\n",
       " ('Knashawn', 'H.', 'Morales'): [' Sc.D.',\n",
       "  'Associate Professor of Biostatistics',\n",
       "  'knashawn@mail.med.upenn.edu'],\n",
       " ('Kathleen', 'Joy', 'Propert'): [' Sc.D.',\n",
       "  'Professor of Biostatistics',\n",
       "  'propert@mail.med.upenn.edu'],\n",
       " ('Mary', 'E.', 'Putt'): [' PhD ScD',\n",
       "  'Professor of Biostatistics',\n",
       "  'mputt@mail.med.upenn.edu'],\n",
       " ('Sarah', 'Jane', 'Ratcliffe'): [' Ph.D.',\n",
       "  'Associate Professor of Biostatistics',\n",
       "  'sratclif@upenn.edu'],\n",
       " ('Michelle', 'Elana', 'Ross'): [' PhD',\n",
       "  'Assistant Professor is Biostatistics',\n",
       "  'michross@upenn.edu'],\n",
       " ('Jason', 'A.', 'Roy'): [' Ph.D.',\n",
       "  'Associate Professor of Biostatistics',\n",
       "  'jaroy@mail.med.upenn.edu'],\n",
       " ('Mary', 'D.', 'Sammel'): [' Sc.D.',\n",
       "  'Professor of Biostatistics',\n",
       "  'msammel@cceb.med.upenn.edu'],\n",
       " ('Pamela', 'Ann', 'Shaw'): [' PhD',\n",
       "  'Assistant Professor of Biostatistics',\n",
       "  'shawp@upenn.edu'],\n",
       " ('Russell', 'Takeshi', 'Shinohara'): [' 0',\n",
       "  'Assistant Professor of Biostatistics',\n",
       "  'rshi@mail.med.upenn.edu'],\n",
       " ('Haochang', 'Shou'): [' Ph.D.',\n",
       "  'Assistant Professor of Biostatistics',\n",
       "  'hshou@mail.med.upenn.edu'],\n",
       " ('Justine', 'Shults'): [' Ph.D.',\n",
       "  'Professor of Biostatistics',\n",
       "  'jshults@mail.med.upenn.edu'],\n",
       " ('Alisa', 'Jane', 'Stephens'): [' Ph.D.',\n",
       "  'Assistant Professor of Biostatistics',\n",
       "  'alisaste@mail.med.upenn.edu'],\n",
       " ('Andrea', 'Beth', 'Troxel'): [' ScD',\n",
       "  'Professor of Biostatistics',\n",
       "  'atroxel@mail.med.upenn.edu'],\n",
       " ('Rui', 'Xiao'): [' PhD',\n",
       "  'Assistant Professor of Biotatistics',\n",
       "  'rxiao@mail.med.upenn.edu'],\n",
       " ('Sharon', 'Xiangwen', 'Xie'): [' Ph.D.',\n",
       "  'Associate Professor of Biostatistics',\n",
       "  'sxie@mail.med.upenn.edu'],\n",
       " ('Dawei', 'Xie'): [' PhD',\n",
       "  'Assistant Professor of Biostatistics',\n",
       "  'dxie@upenn.edu'],\n",
       " ('Wei', '(Peter)', 'Yang'): [' Ph.D.',\n",
       "  'Assistant Professor of Biostatistics',\n",
       "  'weiyang@mail.med.upenn.edu']}"
      ]
     },
     "execution_count": 301,
     "metadata": {},
     "output_type": "execute_result"
    }
   ],
   "source": [
    "names = [tuple(i.split()) for i in data['name']]\n",
    "print(len(names))\n",
    "others = [ [' ' + i, j, k] for i, j, k in zip(data['degree'], data['title'], data['email'])]\n",
    "print(len(others))\n",
    "names\n",
    "\n",
    "new_dict = {k: v for k, v in zip(names, others)}\n",
    "new_dict"
   ]
  },
  {
   "cell_type": "code",
   "execution_count": null,
   "metadata": {},
   "outputs": [],
   "source": []
  },
  {
   "cell_type": "code",
   "execution_count": 347,
   "metadata": {},
   "outputs": [
    {
     "name": "stdout",
     "output_type": "stream",
     "text": [
      "Scarlett L. Bellamy, Sc.D.,Associate Professor of Biostatistics,bellamys@mail.med.upenn.edu \n",
      "\n"
     ]
    },
    {
     "ename": "AssertionError",
     "evalue": "",
     "output_type": "error",
     "traceback": [
      "\u001b[0;31m---------------------------------------------------------------------------\u001b[0m",
      "\u001b[0;31mAssertionError\u001b[0m                            Traceback (most recent call last)",
      "\u001b[0;32m<ipython-input-347-3f3c64a39aae>\u001b[0m in \u001b[0;36m<module>\u001b[0;34m()\u001b[0m\n\u001b[1;32m      4\u001b[0m     \u001b[0;31m#print('{key},{val}'.format(key=' '.join(key), val=','.join(val)) )\u001b[0m\u001b[0;34m\u001b[0m\u001b[0;34m\u001b[0m\u001b[0;34m\u001b[0m\u001b[0m\n\u001b[1;32m      5\u001b[0m     \u001b[0mx\u001b[0m \u001b[0;34m=\u001b[0m \u001b[0;34m'{key},{val}'\u001b[0m\u001b[0;34m.\u001b[0m\u001b[0mformat\u001b[0m\u001b[0;34m(\u001b[0m\u001b[0mkey\u001b[0m\u001b[0;34m=\u001b[0m\u001b[0;34m' '\u001b[0m\u001b[0;34m.\u001b[0m\u001b[0mjoin\u001b[0m\u001b[0;34m(\u001b[0m\u001b[0mkey\u001b[0m\u001b[0;34m)\u001b[0m\u001b[0;34m,\u001b[0m \u001b[0mval\u001b[0m\u001b[0;34m=\u001b[0m\u001b[0;34m','\u001b[0m\u001b[0;34m.\u001b[0m\u001b[0mjoin\u001b[0m\u001b[0;34m(\u001b[0m\u001b[0mval\u001b[0m\u001b[0;34m)\u001b[0m\u001b[0;34m)\u001b[0m\u001b[0;34m\u001b[0m\u001b[0;34m\u001b[0m\u001b[0m\n\u001b[0;32m----> 6\u001b[0;31m     \u001b[0;32massert\u001b[0m \u001b[0mx\u001b[0m \u001b[0;32min\u001b[0m \u001b[0mfacultycsv\u001b[0m\u001b[0;34m\u001b[0m\u001b[0;34m\u001b[0m\u001b[0m\n\u001b[0m\u001b[1;32m      7\u001b[0m     \u001b[0mprint\u001b[0m\u001b[0;34m(\u001b[0m\u001b[0mx\u001b[0m\u001b[0;34m,\u001b[0m\u001b[0;34m'\\n'\u001b[0m\u001b[0;34m)\u001b[0m\u001b[0;34m\u001b[0m\u001b[0;34m\u001b[0m\u001b[0m\n\u001b[1;32m      8\u001b[0m     \u001b[0;31m#print(x1)\u001b[0m\u001b[0;34m\u001b[0m\u001b[0;34m\u001b[0m\u001b[0;34m\u001b[0m\u001b[0m\n",
      "\u001b[0;31mAssertionError\u001b[0m: "
     ]
    }
   ],
   "source": [
    "answer = get_dict()\n",
    "for key, val in answer.items():\n",
    "    #assert '{key},{val}'.format(key=' '.join(key), val=','.join(val)) in facultycsv\n",
    "    #print('{key},{val}'.format(key=' '.join(key), val=','.join(val)) )\n",
    "    x = '{key},{val}'.format(key=' '.join(key), val=','.join(val))\n",
    "    assert x in facultycsv\n",
    "    print(x,'\\n')\n",
    "    #print(x1)"
   ]
  },
  {
   "cell_type": "code",
   "execution_count": 336,
   "metadata": {},
   "outputs": [
    {
     "name": "stdout",
     "output_type": "stream",
     "text": [
      "Scarlett L. Bellamy, Sc.D.,Associate Professor of Biostatistics,bellamys@mail.med.upenn.edu <class 'str'>\n"
     ]
    }
   ],
   "source": [
    "x = 'Wei (Peter) Yang, Ph.D.,Assistant Professor of Biostatistics,weiyang@mail.med.upenn.edu'\n",
    "x = 'Scarlett L. Bellamy, Sc.D.,Associate Professor of Biostatistics,bellamys@mail.med.upenn.edu'\n",
    "print(x, type(x))\n",
    "assert x in facultycsv\n",
    "assert 'Wei (Peter) Yang, Ph.D.,Assistant Professor of Biostatistics,weiyang@mail.med.upenn.edu' in facultycsv"
   ]
  },
  {
   "cell_type": "code",
   "execution_count": 339,
   "metadata": {},
   "outputs": [
    {
     "data": {
      "text/plain": [
       "'name, degree, title, email\\nScarlett L. Bellamy, Sc.D.,Associate Professor of Biostatistics,bellamys@mail.med.upenn.edu\\nWarren B. Bilker,Ph.D.,Professor of Biostatistics,warren@upenn.edu\\nMatthew W Bryan, PhD,Assistant Professor of Biostatistics,bryanma@upenn.edu\\nJinbo Chen, Ph.D.,Associate Professor of Biostatistics,jinboche@upenn.edu\\nSusan S Ellenberg, Ph.D.,Professor of Biostatistics,sellenbe@upenn.edu\\nJonas H. Ellenberg, Ph.D.,Professor of Biostatistics,jellenbe@mail.med.upenn.edu\\nRui Feng, Ph.D,Assistant Professor of Biostatistics,ruifeng@upenn.edu\\nBenjamin C. French, PhD,Associate Professor of Biostatistics,bcfrench@mail.med.upenn.edu\\nPhyllis A. Gimotty, Ph.D,Professor of Biostatistics,pgimotty@upenn.edu\\nWensheng Guo, Ph.D,Professor of Biostatistics,wguo@mail.med.upenn.edu\\nYenchih Hsu, Ph.D.,Assistant Professor of Biostatistics,hsu9@mail.med.upenn.edu\\nRebecca A Hubbard, PhD,Associate Professor of Biostatistics,rhubb@mail.med.upenn.edu\\nWei-Ting Hwang, Ph.D.,Associate Professor of Biostatistics,whwang@mail.med.upenn.edu\\nMarshall M. Joffe, MD MPH Ph.D,Professor of Biostatistics,mjoffe@mail.med.upenn.edu\\nJ. Richard Landis, B.S.Ed. M.S. Ph.D.,Professor of Biostatistics,jrlandis@mail.med.upenn.edu\\nYimei Li, Ph.D.,Assistant Professor of Biostatistics,liy3@email.chop.edu\\nMingyao Li, Ph.D.,Associate Professor of Biostatistics,mingyao@mail.med.upenn.edu\\nHongzhe Li, Ph.D,Professor of Biostatistics,hongzhe@upenn.edu\\nA. Russell Localio, JD MA MPH MS PhD,Associate Professor of Biostatistics,rlocalio@upenn.edu\\nNandita Mitra, Ph.D.,Associate Professor of Biostatistics,nanditam@mail.med.upenn.edu\\nKnashawn H. Morales, Sc.D.,Associate Professor of Biostatistics,knashawn@mail.med.upenn.edu\\nKathleen Joy Propert, Sc.D.,Professor of Biostatistics,propert@mail.med.upenn.edu\\nMary E. Putt, PhD ScD,Professor of Biostatistics,mputt@mail.med.upenn.edu\\nSarah Jane Ratcliffe, Ph.D.,Associate Professor of Biostatistics,sratclif@upenn.edu\\nMichelle Elana Ross, PhD,Assistant Professor is Biostatistics,michross@upenn.edu\\nJason A. Roy, Ph.D.,Associate Professor of Biostatistics,jaroy@mail.med.upenn.edu\\nMary D. Sammel, Sc.D.,Professor of Biostatistics,msammel@cceb.med.upenn.edu\\nPamela Ann Shaw, PhD,Assistant Professor of Biostatistics,shawp@upenn.edu\\nRussell Takeshi Shinohara,0,Assistant Professor of Biostatistics,rshi@mail.med.upenn.edu\\nHaochang Shou, Ph.D.,Assistant Professor of Biostatistics,hshou@mail.med.upenn.edu\\nJustine Shults, Ph.D.,Professor of Biostatistics,jshults@mail.med.upenn.edu\\nAlisa Jane Stephens, Ph.D.,Assistant Professor of Biostatistics,alisaste@mail.med.upenn.edu\\nAndrea Beth Troxel, ScD,Professor of Biostatistics,atroxel@mail.med.upenn.edu\\nRui Xiao, PhD,Assistant Professor of Biostatistics,rxiao@mail.med.upenn.edu\\nSharon Xiangwen Xie, Ph.D.,Associate Professor of Biostatistics,sxie@mail.med.upenn.edu\\nDawei Xie, PhD,Assistant Professor of Biostatistics,dxie@upenn.edu\\nWei (Peter) Yang, Ph.D.,Assistant Professor of Biostatistics,weiyang@mail.med.upenn.edu'"
      ]
     },
     "execution_count": 339,
     "metadata": {},
     "output_type": "execute_result"
    }
   ],
   "source": [
    "facultycsv"
   ]
  },
  {
   "cell_type": "code",
   "execution_count": null,
   "metadata": {},
   "outputs": [],
   "source": []
  },
  {
   "cell_type": "code",
   "execution_count": null,
   "metadata": {},
   "outputs": [],
   "source": []
  }
 ],
 "metadata": {
  "anaconda-cloud": {},
  "kernelspec": {
   "display_name": "Python 3",
   "language": "python",
   "name": "python3"
  },
  "language_info": {
   "codemirror_mode": {
    "name": "ipython",
    "version": 3
   },
   "file_extension": ".py",
   "mimetype": "text/x-python",
   "name": "python",
   "nbconvert_exporter": "python",
   "pygments_lexer": "ipython3",
   "version": "3.6.7"
  },
  "toc": {
   "nav_menu": {},
   "number_sections": true,
   "sideBar": true,
   "skip_h1_title": false,
   "toc_cell": false,
   "toc_position": {},
   "toc_section_display": "block",
   "toc_window_display": false
  },
  "varInspector": {
   "cols": {
    "lenName": 16,
    "lenType": 16,
    "lenVar": 40
   },
   "kernels_config": {
    "python": {
     "delete_cmd_postfix": "",
     "delete_cmd_prefix": "del ",
     "library": "var_list.py",
     "varRefreshCmd": "print(var_dic_list())"
    },
    "r": {
     "delete_cmd_postfix": ") ",
     "delete_cmd_prefix": "rm(",
     "library": "var_list.r",
     "varRefreshCmd": "cat(var_dic_list()) "
    }
   },
   "types_to_exclude": [
    "module",
    "function",
    "builtin_function_or_method",
    "instance",
    "_Feature"
   ],
   "window_display": false
  }
 },
 "nbformat": 4,
 "nbformat_minor": 1
}
